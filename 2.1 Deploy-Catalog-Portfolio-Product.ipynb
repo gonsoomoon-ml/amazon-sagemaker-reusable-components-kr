{
 "cells": [
  {
   "cell_type": "markdown",
   "id": "d1164e2b",
   "metadata": {},
   "source": [
    "# [모듈 2.1] 카탈로그 포트폴리오 및 프러덕트 배포\n",
    "# 설치 코드 리포\n",
    "- https://github.com/aws-samples/amazon-sagemaker-reusable-components/blob/main/package-cfn.md\n",
    "\n",
    "---\n",
    "## 필수 권한\n",
    "- S3FulllAccess\n",
    "- CloudFullAccess\n",
    "- IAMCreaterole\n",
    "- CodeBuildFull\n",
    "- LambdaFull\n",
    "- ServiceCatalogFull"
   ]
  },
  {
   "cell_type": "code",
   "execution_count": 1,
   "id": "8adcef07",
   "metadata": {},
   "outputs": [],
   "source": [
    "%store -r"
   ]
  },
  {
   "cell_type": "markdown",
   "id": "ba737812",
   "metadata": {},
   "source": [
    "# 1. 카탈로그 프트폴리오 및 프더덕트 CF 확인"
   ]
  },
  {
   "cell_type": "markdown",
   "id": "60a94d0d",
   "metadata": {},
   "source": [
    "## 1.1 실행할 CF YAML 파일 다운로드 "
   ]
  },
  {
   "cell_type": "code",
   "execution_count": 2,
   "id": "20e71fa5",
   "metadata": {},
   "outputs": [
    {
     "name": "stdout",
     "output_type": "stream",
     "text": [
      "2022-02-04 14:16:38       7210 sm-project-sc-portfolio.yaml\n",
      "download: s3://sagemaker-ap-southeast-2-189546603447/amazon-sagemaker-reusable-components/sm-project-sc-portfolio.yaml to ./sm-project-sc-portfolio.yaml\n"
     ]
    }
   ],
   "source": [
    "! aws s3 ls {bucket}/amazon-sagemaker-reusable-components/sm-project-sc-portfolio.yaml \n",
    "! aws s3 cp s3://{bucket}/amazon-sagemaker-reusable-components/sm-project-sc-portfolio.yaml .\n",
    "# ! aws s3 ls https://s3.{bucket_region}.amazonaws.com/{bucket}/amazon-sagemaker-reusable-components/sm-project-sc-portfolio.yaml "
   ]
  },
  {
   "cell_type": "markdown",
   "id": "6fcb69e7",
   "metadata": {},
   "source": [
    "## 1.2 실행 결과의 Output 확인\n",
    "- PortfolioId\n",
    "    - 서비스 카탈로그 데이터 과학 포트폴리오 ID\n",
    "- ProductId\n",
    "    - 서비스 카탈로그 데이터 과학 제품 ID\n",
    "- ProductName\n",
    "    - 서비스 카탈로그 데이터 과학 제품 이름\n",
    "- ProvisioningArtifactIds\n",
    "    - 서비스 카탈로그 데이터 과학 프로비저닝 아티팩트 ID\n",
    "- ProvisioningArtifactNames\n",
    "    - 서비스 카탈로그 데이터 과학 프로비저닝 아티팩트 이름\n",
    "- FSIngestionProductPolicyArn\n",
    "    - Feature Store 수집 제품을 시작하기 위해 AmazonSageMakerServiceCatalogProductsLaunchRole에 대한 관리형 정책      \n",
    "- AmazonSageMakerExecutionRolePolicyArn\n",
    "    - Feature Store 수집 실험으로 노트북을 실행하려면 권한이 있는 Amazon SageMaker 실행 역할에 대한 관리형 정책      \n",
    "- AmazonSageMakerExecutionRoleName\n",
    "    - Amazon SageMaker 실행 역할의 이름"
   ]
  },
  {
   "cell_type": "code",
   "execution_count": 3,
   "id": "fe5cba6b",
   "metadata": {},
   "outputs": [
    {
     "name": "stdout",
     "output_type": "stream",
     "text": [
      "\u001b[94mOutputs\u001b[39;49;00m:\n",
      "  \u001b[94mProductId\u001b[39;49;00m:\n",
      "    \u001b[94mDescription\u001b[39;49;00m: Service Catalog data science product Id\n",
      "    \u001b[94mValue\u001b[39;49;00m:\n",
      "      \u001b[94mRef\u001b[39;49;00m: FeatureStoreDataIngestionProduct\n",
      "  \u001b[94mPortfolioId\u001b[39;49;00m:\n",
      "    \u001b[94mDescription\u001b[39;49;00m: Service Catalog data science portfolio Id\n",
      "    \u001b[94mValue\u001b[39;49;00m:\n",
      "      \u001b[94mRef\u001b[39;49;00m: DataScienceAutomationPortfolio\n",
      "  \u001b[94mProductName\u001b[39;49;00m:\n",
      "    \u001b[94mDescription\u001b[39;49;00m: Service Catalog data science product name\n",
      "    \u001b[94mValue\u001b[39;49;00m:\n",
      "      Fn::GetAtt:\n",
      "      - FeatureStoreDataIngestionProduct\n",
      "      - ProductName\n",
      "  \u001b[94mProvisioningArtifactIds\u001b[39;49;00m:\n",
      "    \u001b[94mDescription\u001b[39;49;00m: Service Catalog data science provisioning artifact Ids\n",
      "    \u001b[94mValue\u001b[39;49;00m:\n",
      "      Fn::GetAtt:\n",
      "      - FeatureStoreDataIngestionProduct\n",
      "      - ProvisioningArtifactIds\n",
      "  \u001b[94mProvisioningArtifactNames\u001b[39;49;00m:\n",
      "    \u001b[94mDescription\u001b[39;49;00m: Service Catalog data science provisioning artifact names\n",
      "    \u001b[94mValue\u001b[39;49;00m:\n",
      "      Fn::GetAtt:\n",
      "      - FeatureStoreDataIngestionProduct\n",
      "      - ProvisioningArtifactNames\n",
      "  \u001b[94mFSIngestionProductPolicyArn\u001b[39;49;00m:\n",
      "    \u001b[94mDescription\u001b[39;49;00m: Managed policy for AmazonSageMakerServiceCatalogProductsLaunchRole\n",
      "      to launch an Feature Store ingestion product\n",
      "    \u001b[94mValue\u001b[39;49;00m:\n",
      "      \u001b[94mRef\u001b[39;49;00m: AmazonSageMakerServiceCatalogFSIngestionProductPolicy\n",
      "  \u001b[94mAmazonSageMakerExecutionRolePolicyArn\u001b[39;49;00m:\n",
      "    \u001b[94mDescription\u001b[39;49;00m: Managed policy for Amazon SageMaker execution role with permissions\n",
      "      to run the notebooks with Feature Store ingestion experiments\n",
      "    \u001b[94mValue\u001b[39;49;00m:\n",
      "      \u001b[94mRef\u001b[39;49;00m: AmazonSageMakerExecutionRolePolicy\n",
      "  \u001b[94mAmazonSageMakerExecutionRoleName\u001b[39;49;00m:\n",
      "    \u001b[94mDescription\u001b[39;49;00m: Name of the Amazon SageMaker execution role\n",
      "    \u001b[94mValue\u001b[39;49;00m:\n",
      "      Fn::Select:\n",
      "      - 1\n",
      "      - Fn::Split:\n",
      "        - /\n",
      "        - \u001b[94mRef\u001b[39;49;00m: SCPortfolioPrincipalRoleArn\n"
     ]
    }
   ],
   "source": [
    "!pygmentize \"sm-project-sc-portfolio.yaml\"   | sed -n 6,50p"
   ]
  },
  {
   "cell_type": "markdown",
   "id": "6cd9ce20",
   "metadata": {},
   "source": [
    "## 1.2 CF 파라미터\n",
    "- SCPortfolioPrincipalRoleArn\n",
    "    - 서비스 카탈로그 제품에 대한 액세스 권한이 부여될 IAM 역할\n",
    "- SCProductLaunchRoleArn\n",
    "    - SageMaker Studio가 제품을 시작될 때 서비스 카탈로그가 맡는 IAM 역할"
   ]
  },
  {
   "cell_type": "code",
   "execution_count": 4,
   "id": "98a0c29d",
   "metadata": {},
   "outputs": [
    {
     "name": "stdout",
     "output_type": "stream",
     "text": [
      "\u001b[94mParameters\u001b[39;49;00m:\n",
      "  \u001b[94mSCPortfolioPrincipalRoleArn\u001b[39;49;00m:\n",
      "    \u001b[94mType\u001b[39;49;00m: String\n",
      "    \u001b[94mDescription\u001b[39;49;00m: IAM role which will be granted access to Service Catalog products\n",
      "  \u001b[94mSCProductLaunchRoleArn\u001b[39;49;00m:\n",
      "    \u001b[94mType\u001b[39;49;00m: String\n",
      "    \u001b[94mDescription\u001b[39;49;00m: IAM role that Service Catalog assumes when SageMaker Studio launches\n",
      "      a product\n",
      "    \u001b[94mDefault\u001b[39;49;00m: AmazonSageMakerServiceCatalogProductsLaunchRole\n"
     ]
    }
   ],
   "source": [
    "!pygmentize \"sm-project-sc-portfolio.yaml\"   | sed -n 51,59p"
   ]
  },
  {
   "cell_type": "markdown",
   "id": "961882cf",
   "metadata": {},
   "source": [
    "## 1.2 CF 생성될 리소스\n",
    "- DataScienceAutomationPortfolio\n",
    "    - 이 포트폴리오는 SageMaker Studio용 재사용 가능한 데이터 과학 자동화 구성 요소 모음입니다.\n",
    "- FeatureStoreDataIngestionProduct\n",
    "    - 이 템플릿은 데이터 변환을 하는 Data Wrangler 및 SageMaker 파이프라인을 사용하여 S3 버킷에서 피쳐 그룹으로 데이터 수집을 자동화하기 위한 SageMaker 프로젝트를 생성합니다.\n"
   ]
  },
  {
   "cell_type": "code",
   "execution_count": 5,
   "id": "54290802",
   "metadata": {},
   "outputs": [
    {
     "name": "stdout",
     "output_type": "stream",
     "text": [
      "\u001b[94mResources\u001b[39;49;00m:\n",
      "  \u001b[94mDataScienceAutomationPortfolio\u001b[39;49;00m:\n",
      "    \u001b[94mType\u001b[39;49;00m: AWS::ServiceCatalog::Portfolio\n",
      "    \u001b[94mProperties\u001b[39;49;00m:\n",
      "      \u001b[94mProviderName\u001b[39;49;00m: Data Science Administration Team\n",
      "      \u001b[94mDescription\u001b[39;49;00m: This portfolio is a collection of re-usable data science automation\n",
      "        components for SageMaker Studio\n",
      "      \u001b[94mDisplayName\u001b[39;49;00m: Re-usable data science automation components for your ML environment\n",
      "  \u001b[94mFeatureStoreDataIngestionProduct\u001b[39;49;00m:\n",
      "    \u001b[94mType\u001b[39;49;00m: AWS::ServiceCatalog::CloudFormationProduct\n",
      "    \u001b[94mProperties\u001b[39;49;00m:\n",
      "      \u001b[94mName\u001b[39;49;00m: Automated Feature Transformation and Ingestion Pipeline v1.0\n",
      "      \u001b[94mDescription\u001b[39;49;00m: This template creates a SageMaker project for automating a data\n",
      "        ingestion from an S3 bucket into a feature group using Data Wrangler data\n",
      "        transformation and SageMaker Pipelines\n",
      "      \u001b[94mOwner\u001b[39;49;00m: Data Science Administration Team\n",
      "      \u001b[94mProvisioningArtifactParameters\u001b[39;49;00m:\n",
      "      - \u001b[94mName\u001b[39;49;00m: Automated Feature Transformation and Ingestion Pipeline v1.0\n",
      "        \u001b[94mDescription\u001b[39;49;00m: SageMaker project to transform and ingest features into a feature\n",
      "          group\n",
      "        \u001b[94mInfo\u001b[39;49;00m:\n",
      "          \u001b[94mLoadTemplateFromURL\u001b[39;49;00m: https://s3.amazonaws.com/sagemaker-ap-southeast-2-189546603447/amazon-sagemaker-reusable-components/project-s3-fs-ingestion.yaml\n",
      "      \u001b[94mTags\u001b[39;49;00m:\n",
      "      - \u001b[94mKey\u001b[39;49;00m: sagemaker:studio-visibility\n",
      "        \u001b[94mValue\u001b[39;49;00m: \u001b[33m'\u001b[39;49;00m\u001b[33mtrue\u001b[39;49;00m\u001b[33m'\u001b[39;49;00m\n"
     ]
    }
   ],
   "source": [
    "!pygmentize \"sm-project-sc-portfolio.yaml\"   | sed -n 65,89p"
   ]
  },
  {
   "cell_type": "markdown",
   "id": "1a986b2c",
   "metadata": {},
   "source": [
    "## 1.3 이외 CF 생성될 리소스\n",
    "- SCPortfolioFeatureStoreDataIngestionProductAssociation\n",
    "- SCPortfolioPrincipleAssociation\n",
    "- SCFeatureStoreDataIngestionProductLaunchRoleConstraint\n",
    "- AmazonSageMakerExecutionRolePolicy\n",
    "- AmazonSageMakerServiceCatalogFSIngestionProductPolicy\n"
   ]
  },
  {
   "cell_type": "code",
   "execution_count": 6,
   "id": "18555477",
   "metadata": {},
   "outputs": [
    {
     "name": "stdout",
     "output_type": "stream",
     "text": [
      "  \u001b[94mSCPortfolioFeatureStoreDataIngestionProductAssociation\u001b[39;49;00m:\n",
      "    \u001b[94mType\u001b[39;49;00m: AWS::ServiceCatalog::PortfolioProductAssociation\n",
      "    \u001b[94mProperties\u001b[39;49;00m:\n",
      "      \u001b[94mPortfolioId\u001b[39;49;00m:\n",
      "        \u001b[94mRef\u001b[39;49;00m: DataScienceAutomationPortfolio\n",
      "      \u001b[94mProductId\u001b[39;49;00m:\n",
      "        \u001b[94mRef\u001b[39;49;00m: FeatureStoreDataIngestionProduct\n",
      "  \u001b[94mSCPortfolioPrincipleAssociation\u001b[39;49;00m:\n",
      "    \u001b[94mType\u001b[39;49;00m: AWS::ServiceCatalog::PortfolioPrincipalAssociation\n",
      "    \u001b[94mProperties\u001b[39;49;00m:\n",
      "      \u001b[94mPortfolioId\u001b[39;49;00m:\n",
      "        \u001b[94mRef\u001b[39;49;00m: DataScienceAutomationPortfolio\n",
      "      \u001b[94mPrincipalARN\u001b[39;49;00m:\n",
      "        \u001b[94mRef\u001b[39;49;00m: SCPortfolioPrincipalRoleArn\n",
      "      \u001b[94mPrincipalType\u001b[39;49;00m: IAM\n",
      "  \u001b[94mSCFeatureStoreDataIngestionProductLaunchRoleConstraint\u001b[39;49;00m:\n",
      "    \u001b[94mType\u001b[39;49;00m: AWS::ServiceCatalog::LaunchRoleConstraint\n",
      "    \u001b[94mDependsOn\u001b[39;49;00m:\n",
      "    - SCPortfolioPrincipleAssociation\n",
      "    \u001b[94mProperties\u001b[39;49;00m:\n",
      "      \u001b[94mDescription\u001b[39;49;00m:\n",
      "        Fn::Sub: AWS Service Catalog uses ${SCProductLaunchRoleArn} to launch SageMaker\n",
      "          projects\n",
      "      \u001b[94mPortfolioId\u001b[39;49;00m:\n",
      "        \u001b[94mRef\u001b[39;49;00m: DataScienceAutomationPortfolio\n",
      "      \u001b[94mProductId\u001b[39;49;00m:\n",
      "        \u001b[94mRef\u001b[39;49;00m: FeatureStoreDataIngestionProduct\n",
      "      \u001b[94mRoleArn\u001b[39;49;00m:\n",
      "        Fn::If:\n",
      "        - DefaultLaunchRole\n",
      "        - Fn::Sub: arn:${AWS::Partition}:iam::${AWS::AccountId}:role/service-role/${SCProductLaunchRoleArn}\n",
      "        - \u001b[94mRef\u001b[39;49;00m: SCProductLaunchRoleArn\n",
      "  \u001b[94mAmazonSageMakerExecutionRolePolicy\u001b[39;49;00m:\n",
      "    \u001b[94mType\u001b[39;49;00m: AWS::IAM::ManagedPolicy\n",
      "    \u001b[94mProperties\u001b[39;49;00m:\n",
      "      \u001b[94mPolicyDocument\u001b[39;49;00m:\n",
      "        \u001b[94mVersion\u001b[39;49;00m: 2012-10-17\n",
      "        \u001b[94mStatement\u001b[39;49;00m:\n",
      "        - \u001b[94mSid\u001b[39;49;00m: CloudFormationPermission\n",
      "          \u001b[94mEffect\u001b[39;49;00m: Allow\n",
      "          \u001b[94mAction\u001b[39;49;00m:\n",
      "          - cloudformation:Describe*\n",
      "          - cloudformation:Get*\n",
      "          - cloudformation:List*\n",
      "          \u001b[94mResource\u001b[39;49;00m:\n",
      "          - Fn::Sub: arn:aws:cloudformation:${AWS::Region}:${AWS::AccountId}:stack/sm-*\n",
      "          - Fn::Sub: arn:aws:cloudformation:${AWS::Region}:${AWS::AccountId}:stack/sagemaker-*\n",
      "        - \u001b[94mSid\u001b[39;49;00m: S3Permission\n",
      "          \u001b[94mEffect\u001b[39;49;00m: Allow\n",
      "          \u001b[94mAction\u001b[39;49;00m:\n",
      "          - s3:DeleteBucket\n",
      "          \u001b[94mResource\u001b[39;49;00m:\n",
      "          - arn:aws:s3:::sagemaker-cp-*\n",
      "          - arn:aws:s3:::sagemaker-ct-*\n",
      "  \u001b[94mAmazonSageMakerServiceCatalogFSIngestionProductPolicy\u001b[39;49;00m:\n",
      "    \u001b[94mType\u001b[39;49;00m: AWS::IAM::ManagedPolicy\n",
      "    \u001b[94mProperties\u001b[39;49;00m:\n",
      "      \u001b[94mPolicyDocument\u001b[39;49;00m:\n",
      "        \u001b[94mVersion\u001b[39;49;00m: 2012-10-17\n",
      "        \u001b[94mStatement\u001b[39;49;00m:\n",
      "        - \u001b[94mSid\u001b[39;49;00m: FSIngestionPermissionIAM\n",
      "          \u001b[94mEffect\u001b[39;49;00m: Allow\n",
      "          \u001b[94mAction\u001b[39;49;00m:\n",
      "          - iam:CreateRole\n",
      "          - iam:DeleteRole\n",
      "          - iam:PutRolePolicy\n",
      "          - iam:DeleteRolePolicy\n",
      "          - iam:DetachRolePolicy\n",
      "          - iam:AttachRolePolicy\n",
      "          - iam:GetRole\n",
      "          - iam:GetRolePolicy\n",
      "          \u001b[94mResource\u001b[39;49;00m:\n",
      "            Fn::Sub: arn:aws:iam::${AWS::AccountId}:*\n",
      "        - \u001b[94mSid\u001b[39;49;00m: FSIngestionPermissionS3\n",
      "          \u001b[94mEffect\u001b[39;49;00m: Allow\n",
      "          \u001b[94mAction\u001b[39;49;00m:\n",
      "          - s3:PutBucketOwnershipControls\n",
      "          \u001b[94mResource\u001b[39;49;00m: arn:aws:s3:::sagemaker-*\n",
      "        - \u001b[94mSid\u001b[39;49;00m: FSIngestionPermissionPassRole\n",
      "          \u001b[94mEffect\u001b[39;49;00m: Allow\n",
      "          \u001b[94mAction\u001b[39;49;00m:\n",
      "          - iam:PassRole\n",
      "          \u001b[94mResource\u001b[39;49;00m:\n",
      "          - Fn::Sub: arn:aws:iam::${AWS::AccountId}:role/*StartIngestionPipeline*\n",
      "        - \u001b[94mSid\u001b[39;49;00m: FSIngestionPermissionEvents\n",
      "          \u001b[94mEffect\u001b[39;49;00m: Allow\n",
      "          \u001b[94mAction\u001b[39;49;00m:\n",
      "          - events:DescribeRule\n",
      "          - events:DeleteRule\n",
      "          - events:EnableRule\n",
      "          - events:PutRule\n",
      "          - events:PutTargets\n",
      "          - events:RemoveTargets\n",
      "          - events:TagResource\n",
      "          - events:UntagResource\n",
      "          \u001b[94mResource\u001b[39;49;00m:\n",
      "          - Fn::Sub: arn:aws:events:${AWS::Region}:${AWS::AccountId}:*\n",
      "        - \u001b[94mSid\u001b[39;49;00m: FSIngestionPermissionCloudTrail\n",
      "          \u001b[94mEffect\u001b[39;49;00m: Allow\n",
      "          \u001b[94mAction\u001b[39;49;00m:\n",
      "          - cloudtrail:CreateTrail\n",
      "          - cloudtrail:DeleteTrail\n",
      "          - cloudtrail:AddTags\n",
      "          - cloudtrail:RemoveTags\n",
      "          - cloudtrail:PutEventSelectors\n",
      "          - cloudtrail:RemoveTags\n",
      "          - cloudtrail:StartLogging\n",
      "          - cloudtrail:StopLogging\n",
      "          \u001b[94mResource\u001b[39;49;00m:\n",
      "          - Fn::Sub: arn:aws:cloudtrail:${AWS::Region}:${AWS::AccountId}:trail/cloudtrail-sagemaker-*\n"
     ]
    }
   ],
   "source": [
    "!pygmentize \"sm-project-sc-portfolio.yaml\"   | sed -n 90,199p"
   ]
  },
  {
   "cell_type": "code",
   "execution_count": 7,
   "id": "4dddad36",
   "metadata": {},
   "outputs": [
    {
     "name": "stdout",
     "output_type": "stream",
     "text": [
      "upload: ./sm-project-sc-portfolio.yaml to s3://sagemaker-ap-southeast-2-189546603447/amazon-sagemaker-reusable-components/sm-project-sc-portfolio.yaml\n"
     ]
    }
   ],
   "source": [
    "! aws s3 cp sm-project-sc-portfolio.yaml  s3://{bucket}/amazon-sagemaker-reusable-components/sm-project-sc-portfolio.yaml "
   ]
  },
  {
   "cell_type": "markdown",
   "id": "12610a60",
   "metadata": {},
   "source": [
    "# 2. AWS Service Catalog 제품 포트폴리오 배포\n",
    "- 'sm-project-sc-portfolio.yaml' 를 실행하여 카탈로그 포트폴리오 및 프로덕트에 등록하는 과정\n",
    "- 아래와 같은 주요 파라미터가 필요 합니다.\n",
    "```\n",
    "aws cloudformation create-stack \\\n",
    "    --template-url # 포트폴리오 및 프로덕트가 정의된 CF YAML\n",
    "    --region # 리젼\n",
    "    --stack-name # 스텍 이름\n",
    "    --disable-rollback \n",
    "    --capabilities CAPABILITY_NAMED_IAM \\\n",
    "    --parameters \\\n",
    "        ParameterKey=SCPortfolioPrincipalRoleArn,ParameterValue= <> # SageMaker Execution Role 할당\n",
    "```"
   ]
  },
  {
   "cell_type": "code",
   "execution_count": 8,
   "id": "8f1274a8",
   "metadata": {},
   "outputs": [],
   "source": [
    "import sagemaker\n",
    "region = sagemaker.Session().boto_region_name\n",
    "SC_PORTFOLIO_STACK_NAME='sm-project-sc-portfolio'"
   ]
  },
  {
   "cell_type": "code",
   "execution_count": 9,
   "id": "080567a0",
   "metadata": {},
   "outputs": [
    {
     "name": "stdout",
     "output_type": "stream",
     "text": [
      "bucket_name : sagemaker-ap-southeast-2-189546603447\n",
      "stack_name : sm-project-sc-portfolio\n",
      "Bucket Region : ap-southeast-2\n",
      "SageMaker Studio Domain ID : d-bqnj3arguz1d\n",
      "SageMaker Execution Role : arn:aws:iam::189546603447:role/MLOps-custom-template-gonsoomoon\n",
      "CF File:  : https://s3.ap-southeast-2.amazonaws.com/sagemaker-ap-southeast-2-189546603447/amazon-sagemaker-reusable-components/sm-project-sc-portfolio.yaml\n",
      "{\n",
      "    \"StackId\": \"arn:aws:cloudformation:ap-southeast-2:189546603447:stack/sm-project-sc-portfolio/082db950-8651-11ec-a081-0236e46e2510\"\n",
      "}\n"
     ]
    }
   ],
   "source": [
    "%%sh -s \"{bucket}\" \"{SC_PORTFOLIO_STACK_NAME}\" \"{region}\"\n",
    "\n",
    "bucket_name=$1\n",
    "sc_portfolio_stack_name=$2\n",
    "region=$3\n",
    "echo 'bucket_name' :  $bucket_name\n",
    "echo 'stack_name' :  $sc_portfolio_stack_name\n",
    "echo 'Bucket Region' : $region\n",
    "    \n",
    "export SM_DOMAIN_ID=$(aws sagemaker list-domains \\\n",
    "    --output text --query 'Domains[0].DomainId')\n",
    "echo 'SageMaker Studio Domain ID' : $SM_DOMAIN_ID\n",
    "\n",
    "export SM_EXECUTION_ROLE=$(aws sagemaker describe-domain \\\n",
    "    --domain-id $SM_DOMAIN_ID \\\n",
    "    --output text --query 'DefaultUserSettings.ExecutionRole')\n",
    "echo 'SageMaker Execution Role' : $SM_EXECUTION_ROLE\n",
    "\n",
    "echo 'CF File: ' : https://s3.$region.amazonaws.com/$bucket_name/amazon-sagemaker-reusable-components/sm-project-sc-portfolio.yaml\n",
    "\n",
    "aws cloudformation create-stack \\\n",
    "    --template-url https://s3.$region.amazonaws.com/$bucket_name/amazon-sagemaker-reusable-components/sm-project-sc-portfolio.yaml \\\n",
    "    --region $region \\\n",
    "    --stack-name $sc_portfolio_stack_name  \\\n",
    "    --disable-rollback \\\n",
    "    --capabilities CAPABILITY_NAMED_IAM \\\n",
    "    --parameters \\\n",
    "        ParameterKey=SCPortfolioPrincipalRoleArn,ParameterValue=$SM_EXECUTION_ROLE"
   ]
  },
  {
   "cell_type": "markdown",
   "id": "2251a368",
   "metadata": {},
   "source": [
    "## 2.1 클라우드 포메이션 진행 확인\n",
    "\n",
    "- 클라우드 포메이션의 콘솔로 가셔서 sm-project-sc-portfolio 가 성공적으로 끝났는지를 확인 합니다."
   ]
  },
  {
   "cell_type": "markdown",
   "id": "eb32e2a9",
   "metadata": {},
   "source": [
    "![cf_deploy_portfolio.png](img2/cf_deploy_portfolio.png)"
   ]
  },
  {
   "cell_type": "markdown",
   "id": "8853fe23",
   "metadata": {},
   "source": [
    "## 2.2 서비스 카탈로그 및 프러덕트 생성 확인\n",
    "- 서비스 카탈로그 콘솔로 이동하여 아래 처럼 생성이 되었는지를 확인 합니다."
   ]
  },
  {
   "cell_type": "markdown",
   "id": "9acf897e",
   "metadata": {},
   "source": [
    "![service_catalog.png](img2/service_catalog.png)"
   ]
  },
  {
   "cell_type": "markdown",
   "id": "cc2c3a40",
   "metadata": {},
   "source": [
    "# 3. 서비스 카탈로그 런치 및 SageMaker 실행 IAM 역할에 권한 추가\n",
    "\n",
    "- AmazonSageMakerServiceCatalogProductsLaunchRole 에 권한 추가\n",
    "    - AWS Service Catalog는 기본 [`AmazonSageMakerServiceCatalogProductsLaunchRole` IAM 역할](https://docs.aws.amazon.com/sagemaker/latest/dg/security-iam-awsmanpol-sc.html)을 사용하여 SageMaker 프로젝트와 함께 CloudFormation 템플릿을 시작합니다. 이 역할은 Studio 사용자에 대해 SageMaker 프로젝트를 활성화한 경우 SageMaker Studio를 프로비저닝하는 동안 자동으로 생성됩니다.\n",
    "    - Feature Store 수집 제품을 SageMaker 프로젝트로 배포하려면 이 역할에 추가 권한이 필요합니다. 필요한 모든 권한은 [관리형 정책 리소스 `AmazonSageMakerServiceCatalogFSIngestionProductPolicy`](cfn-templates/sm-project-sc-portfolio.yaml)에 정의되어 있으며 이를 역할(`AmazonSageMakerServiceCatalogProductsLaunchRole`) 에 첨부해야 합니다.\n",
    "    - 이는  SageMaker 프로젝트 배포를 시작하기 전에 해야 합니다.\n",
    "\n",
    "\n",
    "- AmazonSageMakerExecutionRole 에 권한 추가\n",
    "    - 예를 들어 [CloudFormation API](https://docs.aws.amazon.com/AWSCloudFormation/latest/APIReference/API_Operations.html)를 호출하여 제공된 노트북에서 일부 코드 셀을 실행하려면 SageMaker 실행 역할에 추가 권한이 필요합니다. 이러한 권한은 [관리형 정책 리소스 `AmazonSageMakerExecutionRolePolicy`](cfn-templates/sm-project-sc-portfolio.yaml)에 정의되어 있으며 SageMaker 실행 역할에 연결되어야 합니다.\n",
    "\n",
    "다음 명령을 실행하여 생성된 관리형 정책을 `AmazonSageMakerServiceCatalogProductsLaunchRole` 및 SageMaker 실행 IAM 역할에 연결합니다.\n",
    "\n",
    "\n"
   ]
  },
  {
   "cell_type": "code",
   "execution_count": null,
   "id": "bfa9d339",
   "metadata": {},
   "outputs": [],
   "source": []
  },
  {
   "cell_type": "code",
   "execution_count": null,
   "id": "2fc01b4e",
   "metadata": {},
   "outputs": [],
   "source": [
    "%%sh -s \"{SC_PORTFOLIO_STACK_NAME}\" \n",
    "\n",
    "sc_portfolio_stack_name=$1\n",
    "export SM_SC_FS_INGESTION_POLICY_ARN=$(aws cloudformation describe-stacks \\\n",
    "    --stack-name $sc_portfolio_stack_name \\\n",
    "    --output text \\\n",
    "    --query 'Stacks[0].Outputs[?OutputKey==`FSIngestionProductPolicyArn`].OutputValue')\n",
    "\n",
    "echo 'SM_SC_FS_INGESTION_POLICY_ARN' : $SM_SC_FS_INGESTION_POLICY_ARN\n",
    "    \n",
    "export SM_EXECUTION_ROLE_POLICY_ARN=$(aws cloudformation describe-stacks \\\n",
    "    --stack-name $sc_portfolio_stack_name \\\n",
    "    --output text \\\n",
    "    --query 'Stacks[0].Outputs[?OutputKey==`AmazonSageMakerExecutionRolePolicyArn`].OutputValue')\n",
    "\n",
    "echo ''\n",
    "echo 'SM_EXECUTION_ROLE_POLICY_ARN' : $SM_EXECUTION_ROLE_POLICY_ARN    \n",
    "    \n",
    "export SM_EXECUTION_ROLE_NAME=$(aws cloudformation describe-stacks \\\n",
    "    --stack-name $sc_portfolio_stack_name \\\n",
    "    --output text \\\n",
    "    --query 'Stacks[0].Outputs[?OutputKey==`AmazonSageMakerExecutionRoleName`].OutputValue')\n",
    "\n",
    "echo ''\n",
    "echo 'SM_EXECUTION_ROLE_NAME' : $SM_EXECUTION_ROLE_NAME    \n",
    "\n",
    "aws iam attach-role-policy \\\n",
    "    --role-name AmazonSageMakerServiceCatalogProductsLaunchRole \\\n",
    "    --policy-arn $SM_SC_FS_INGESTION_POLICY_ARN\n",
    "\n",
    "aws iam attach-role-policy \\\n",
    "    --role-name  $SM_EXECUTION_ROLE_NAME \\\n",
    "    --policy-arn $SM_EXECUTION_ROLE_POLICY_ARN"
   ]
  },
  {
   "cell_type": "markdown",
   "id": "ff40f456",
   "metadata": {},
   "source": [
    "# 4. 노트북 끝\n",
    "- README 파일로 이동하시고, 아래는 트러블 슈팅시 참고 하세요."
   ]
  },
  {
   "cell_type": "markdown",
   "id": "4dcf581a",
   "metadata": {},
   "source": [
    "# A. 트러블 슈팅 커맨드"
   ]
  },
  {
   "cell_type": "markdown",
   "id": "8296a0a1",
   "metadata": {},
   "source": [
    "## A.1 클라우드 포메이션 스택 진행 상황, 삭제 및 기타 명령어"
   ]
  },
  {
   "cell_type": "code",
   "execution_count": 14,
   "id": "2415e0b1",
   "metadata": {
    "collapsed": true,
    "jupyter": {
     "outputs_hidden": true
    }
   },
   "outputs": [
    {
     "name": "stdout",
     "output_type": "stream",
     "text": [
      "{\n",
      "    \"StackEvents\": [\n",
      "        {\n",
      "            \"StackId\": \"arn:aws:cloudformation:ap-southeast-2:057716757052:stack/amazon-sagemaker-reusable-components-package-cfn/d112c110-7929-11ec-9477-0275392b8e7c\",\n",
      "            \"EventId\": \"0cee1680-792a-11ec-83ed-0abbffeda692\",\n",
      "            \"StackName\": \"amazon-sagemaker-reusable-components-package-cfn\",\n",
      "            \"LogicalResourceId\": \"amazon-sagemaker-reusable-components-package-cfn\",\n",
      "            \"PhysicalResourceId\": \"arn:aws:cloudformation:ap-southeast-2:057716757052:stack/amazon-sagemaker-reusable-components-package-cfn/d112c110-7929-11ec-9477-0275392b8e7c\",\n",
      "            \"ResourceType\": \"AWS::CloudFormation::Stack\",\n",
      "            \"Timestamp\": \"2022-01-19T13:16:45.402Z\",\n",
      "            \"ResourceStatus\": \"ROLLBACK_FAILED\",\n",
      "            \"ResourceStatusReason\": \"The following resource(s) failed to delete: [StartBuildLambda]. \"\n",
      "        },\n",
      "        {\n",
      "            \"StackId\": \"arn:aws:cloudformation:ap-southeast-2:057716757052:stack/amazon-sagemaker-reusable-components-package-cfn/d112c110-7929-11ec-9477-0275392b8e7c\",\n",
      "            \"EventId\": \"CodeBuildServiceRole-DELETE_COMPLETE-2022-01-19T13:16:44.856Z\",\n",
      "            \"StackName\": \"amazon-sagemaker-reusable-components-package-cfn\",\n",
      "            \"LogicalResourceId\": \"CodeBuildServiceRole\",\n",
      "            \"PhysicalResourceId\": \"amazon-sagemaker-reusable-com-CodeBuildServiceRole-30NGCRMDOGDN\",\n",
      "            \"ResourceType\": \"AWS::IAM::Role\",\n",
      "            \"Timestamp\": \"2022-01-19T13:16:44.856Z\",\n",
      "            \"ResourceStatus\": \"DELETE_COMPLETE\",\n",
      "            \"ResourceProperties\": \"{\\\"Path\\\":\\\"/service-role/\\\",\\\"Policies\\\":[{\\\"PolicyName\\\":\\\"CodeBuildServiceRoleInLinePolicy\\\",\\\"PolicyDocument\\\":{\\\"Version\\\":\\\"2012-10-17\\\",\\\"Statement\\\":[{\\\"Action\\\":[\\\"logs:CreateLogGroup\\\",\\\"logs:CreateLogStream\\\",\\\"logs:PutLogEvents\\\"],\\\"Resource\\\":\\\"*\\\",\\\"Effect\\\":\\\"Allow\\\"},{\\\"Action\\\":[\\\"s3:*Object\\\",\\\"s3:GetObjectVersion\\\",\\\"s3:GetBucketAcl\\\",\\\"s3:GetBucketLocation\\\",\\\"s3:ListBucket\\\",\\\"s3:PutObjectTagging\\\",\\\"s3:CreateBucket\\\"],\\\"Resource\\\":[\\\"arn:aws:s3:::sagemaker-ap-southeast-2-057716757052\\\",\\\"arn:aws:s3:::sagemaker-ap-southeast-2-057716757052/*\\\"],\\\"Effect\\\":\\\"Allow\\\"},{\\\"Action\\\":[\\\"codebuild:CreateReportGroup\\\",\\\"codebuild:CreateReport\\\",\\\"codebuild:UpdateReport\\\",\\\"codebuild:BatchPutTestCases\\\",\\\"codebuild:BatchPutCodeCoverages\\\"],\\\"Resource\\\":\\\"arn:aws:codebuild:ap-southeast-2:057716757052:report-group/*\\\",\\\"Effect\\\":\\\"Allow\\\"}]}}],\\\"AssumeRolePolicyDocument\\\":{\\\"Version\\\":\\\"2012-10-17\\\",\\\"Statement\\\":[{\\\"Action\\\":\\\"sts:AssumeRole\\\",\\\"Effect\\\":\\\"Allow\\\",\\\"Principal\\\":{\\\"Service\\\":\\\"codebuild.amazonaws.com\\\"}}]}}\"\n",
      "        },\n",
      "        {\n",
      "            \"StackId\": \"arn:aws:cloudformation:ap-southeast-2:057716757052:stack/amazon-sagemaker-reusable-components-package-cfn/d112c110-7929-11ec-9477-0275392b8e7c\",\n",
      "            \"EventId\": \"CodeBuildServiceRole-DELETE_IN_PROGRESS-2022-01-19T13:16:42.751Z\",\n",
      "            \"StackName\": \"amazon-sagemaker-reusable-components-package-cfn\",\n",
      "            \"LogicalResourceId\": \"CodeBuildServiceRole\",\n",
      "            \"PhysicalResourceId\": \"amazon-sagemaker-reusable-com-CodeBuildServiceRole-30NGCRMDOGDN\",\n",
      "            \"ResourceType\": \"AWS::IAM::Role\",\n",
      "            \"Timestamp\": \"2022-01-19T13:16:42.751Z\",\n",
      "            \"ResourceStatus\": \"DELETE_IN_PROGRESS\",\n",
      "            \"ResourceProperties\": \"{\\\"Path\\\":\\\"/service-role/\\\",\\\"Policies\\\":[{\\\"PolicyName\\\":\\\"CodeBuildServiceRoleInLinePolicy\\\",\\\"PolicyDocument\\\":{\\\"Version\\\":\\\"2012-10-17\\\",\\\"Statement\\\":[{\\\"Action\\\":[\\\"logs:CreateLogGroup\\\",\\\"logs:CreateLogStream\\\",\\\"logs:PutLogEvents\\\"],\\\"Resource\\\":\\\"*\\\",\\\"Effect\\\":\\\"Allow\\\"},{\\\"Action\\\":[\\\"s3:*Object\\\",\\\"s3:GetObjectVersion\\\",\\\"s3:GetBucketAcl\\\",\\\"s3:GetBucketLocation\\\",\\\"s3:ListBucket\\\",\\\"s3:PutObjectTagging\\\",\\\"s3:CreateBucket\\\"],\\\"Resource\\\":[\\\"arn:aws:s3:::sagemaker-ap-southeast-2-057716757052\\\",\\\"arn:aws:s3:::sagemaker-ap-southeast-2-057716757052/*\\\"],\\\"Effect\\\":\\\"Allow\\\"},{\\\"Action\\\":[\\\"codebuild:CreateReportGroup\\\",\\\"codebuild:CreateReport\\\",\\\"codebuild:UpdateReport\\\",\\\"codebuild:BatchPutTestCases\\\",\\\"codebuild:BatchPutCodeCoverages\\\"],\\\"Resource\\\":\\\"arn:aws:codebuild:ap-southeast-2:057716757052:report-group/*\\\",\\\"Effect\\\":\\\"Allow\\\"}]}}],\\\"AssumeRolePolicyDocument\\\":{\\\"Version\\\":\\\"2012-10-17\\\",\\\"Statement\\\":[{\\\"Action\\\":\\\"sts:AssumeRole\\\",\\\"Effect\\\":\\\"Allow\\\",\\\"Principal\\\":{\\\"Service\\\":\\\"codebuild.amazonaws.com\\\"}}]}}\"\n",
      "        },\n",
      "        {\n",
      "            \"StackId\": \"arn:aws:cloudformation:ap-southeast-2:057716757052:stack/amazon-sagemaker-reusable-components-package-cfn/d112c110-7929-11ec-9477-0275392b8e7c\",\n",
      "            \"EventId\": \"CfnTemplatePackageProject-DELETE_COMPLETE-2022-01-19T13:16:42.111Z\",\n",
      "            \"StackName\": \"amazon-sagemaker-reusable-components-package-cfn\",\n",
      "            \"LogicalResourceId\": \"CfnTemplatePackageProject\",\n",
      "            \"PhysicalResourceId\": \"CfnTemplatePackageProject-mKFQ6zHPyfLL\",\n",
      "            \"ResourceType\": \"AWS::CodeBuild::Project\",\n",
      "            \"Timestamp\": \"2022-01-19T13:16:42.111Z\",\n",
      "            \"ResourceStatus\": \"DELETE_COMPLETE\",\n",
      "            \"ResourceProperties\": \"{\\\"Artifacts\\\":{\\\"Type\\\":\\\"NO_ARTIFACTS\\\"},\\\"LogsConfig\\\":{\\\"CloudWatchLogs\\\":{\\\"Status\\\":\\\"ENABLED\\\"}},\\\"Description\\\":\\\"Packaging CFN templates into sagemaker-ap-southeast-2-057716757052\\\",\\\"ServiceRole\\\":\\\"arn:aws:iam::057716757052:role/service-role/amazon-sagemaker-reusable-com-CodeBuildServiceRole-30NGCRMDOGDN\\\",\\\"Environment\\\":{\\\"Type\\\":\\\"LINUX_CONTAINER\\\",\\\"EnvironmentVariables\\\":[{\\\"Value\\\":\\\"sagemaker-ap-southeast-2-057716757052\\\",\\\"Name\\\":\\\"S3_BUCKET_NAME\\\"},{\\\"Value\\\":\\\"ap-southeast-2\\\",\\\"Name\\\":\\\"DEPLOYMENT_REGION\\\"}],\\\"Image\\\":\\\"aws/codebuild/amazonlinux2-x86_64-standard:3.0\\\",\\\"ComputeType\\\":\\\"BUILD_GENERAL1_SMALL\\\"},\\\"Source\\\":{\\\"Type\\\":\\\"S3\\\",\\\"BuildSpec\\\":\\\"buildspec-package-cfn.yml\\\",\\\"Location\\\":\\\"sagemaker-ap-southeast-2-057716757052/amazon-sagemaker-reusable-components/amazon-sagemaker-reusable-components.zip\\\"},\\\"TimeoutInMinutes\\\":\\\"5\\\"}\"\n",
      "        },\n",
      "        {\n",
      "            \"StackId\": \"arn:aws:cloudformation:ap-southeast-2:057716757052:stack/amazon-sagemaker-reusable-components-package-cfn/d112c110-7929-11ec-9477-0275392b8e7c\",\n",
      "            \"EventId\": \"CfnTemplatePackageProject-DELETE_IN_PROGRESS-2022-01-19T13:16:40.653Z\",\n",
      "            \"StackName\": \"amazon-sagemaker-reusable-components-package-cfn\",\n",
      "            \"LogicalResourceId\": \"CfnTemplatePackageProject\",\n",
      "            \"PhysicalResourceId\": \"CfnTemplatePackageProject-mKFQ6zHPyfLL\",\n",
      "            \"ResourceType\": \"AWS::CodeBuild::Project\",\n",
      "            \"Timestamp\": \"2022-01-19T13:16:40.653Z\",\n",
      "            \"ResourceStatus\": \"DELETE_IN_PROGRESS\",\n",
      "            \"ResourceProperties\": \"{\\\"Artifacts\\\":{\\\"Type\\\":\\\"NO_ARTIFACTS\\\"},\\\"LogsConfig\\\":{\\\"CloudWatchLogs\\\":{\\\"Status\\\":\\\"ENABLED\\\"}},\\\"Description\\\":\\\"Packaging CFN templates into sagemaker-ap-southeast-2-057716757052\\\",\\\"ServiceRole\\\":\\\"arn:aws:iam::057716757052:role/service-role/amazon-sagemaker-reusable-com-CodeBuildServiceRole-30NGCRMDOGDN\\\",\\\"Environment\\\":{\\\"Type\\\":\\\"LINUX_CONTAINER\\\",\\\"EnvironmentVariables\\\":[{\\\"Value\\\":\\\"sagemaker-ap-southeast-2-057716757052\\\",\\\"Name\\\":\\\"S3_BUCKET_NAME\\\"},{\\\"Value\\\":\\\"ap-southeast-2\\\",\\\"Name\\\":\\\"DEPLOYMENT_REGION\\\"}],\\\"Image\\\":\\\"aws/codebuild/amazonlinux2-x86_64-standard:3.0\\\",\\\"ComputeType\\\":\\\"BUILD_GENERAL1_SMALL\\\"},\\\"Source\\\":{\\\"Type\\\":\\\"S3\\\",\\\"BuildSpec\\\":\\\"buildspec-package-cfn.yml\\\",\\\"Location\\\":\\\"sagemaker-ap-southeast-2-057716757052/amazon-sagemaker-reusable-components/amazon-sagemaker-reusable-components.zip\\\"},\\\"TimeoutInMinutes\\\":\\\"5\\\"}\"\n",
      "        },\n",
      "        {\n",
      "            \"StackId\": \"arn:aws:cloudformation:ap-southeast-2:057716757052:stack/amazon-sagemaker-reusable-components-package-cfn/d112c110-7929-11ec-9477-0275392b8e7c\",\n",
      "            \"EventId\": \"StartBuildLambdaExecutionRole-DELETE_COMPLETE-2022-01-19T13:16:39.514Z\",\n",
      "            \"StackName\": \"amazon-sagemaker-reusable-components-package-cfn\",\n",
      "            \"LogicalResourceId\": \"StartBuildLambdaExecutionRole\",\n",
      "            \"PhysicalResourceId\": \"amazon-sagemaker-reusable-StartBuildLambdaExecutio-YP8J5GNAZHB1\",\n",
      "            \"ResourceType\": \"AWS::IAM::Role\",\n",
      "            \"Timestamp\": \"2022-01-19T13:16:39.514Z\",\n",
      "            \"ResourceStatus\": \"DELETE_COMPLETE\",\n",
      "            \"ResourceProperties\": \"{\\\"Path\\\":\\\"/\\\",\\\"ManagedPolicyArns\\\":[\\\"arn:aws:iam::aws:policy/service-role/AWSLambdaBasicExecutionRole\\\"],\\\"Policies\\\":[{\\\"PolicyName\\\":\\\"InlinePolicy\\\",\\\"PolicyDocument\\\":{\\\"Version\\\":\\\"2012-10-17\\\",\\\"Statement\\\":[{\\\"Action\\\":[\\\"codebuild:StartBuild\\\"],\\\"Resource\\\":\\\"arn:aws:codebuild:ap-southeast-2:057716757052:project/CfnTemplatePackageProject-mKFQ6zHPyfLL\\\",\\\"Effect\\\":\\\"Allow\\\",\\\"Sid\\\":\\\"CodeBuildPermission\\\"}]}}],\\\"AssumeRolePolicyDocument\\\":{\\\"Version\\\":\\\"2012-10-17\\\",\\\"Statement\\\":[{\\\"Action\\\":[\\\"sts:AssumeRole\\\"],\\\"Effect\\\":\\\"Allow\\\",\\\"Principal\\\":{\\\"Service\\\":[\\\"lambda.amazonaws.com\\\"]}}]}}\"\n",
      "        },\n",
      "        {\n",
      "            \"StackId\": \"arn:aws:cloudformation:ap-southeast-2:057716757052:stack/amazon-sagemaker-reusable-components-package-cfn/d112c110-7929-11ec-9477-0275392b8e7c\",\n",
      "            \"EventId\": \"StartBuildLambdaExecutionRole-DELETE_IN_PROGRESS-2022-01-19T13:16:37.214Z\",\n",
      "            \"StackName\": \"amazon-sagemaker-reusable-components-package-cfn\",\n",
      "            \"LogicalResourceId\": \"StartBuildLambdaExecutionRole\",\n",
      "            \"PhysicalResourceId\": \"amazon-sagemaker-reusable-StartBuildLambdaExecutio-YP8J5GNAZHB1\",\n",
      "            \"ResourceType\": \"AWS::IAM::Role\",\n",
      "            \"Timestamp\": \"2022-01-19T13:16:37.214Z\",\n",
      "            \"ResourceStatus\": \"DELETE_IN_PROGRESS\",\n",
      "            \"ResourceProperties\": \"{\\\"Path\\\":\\\"/\\\",\\\"ManagedPolicyArns\\\":[\\\"arn:aws:iam::aws:policy/service-role/AWSLambdaBasicExecutionRole\\\"],\\\"Policies\\\":[{\\\"PolicyName\\\":\\\"InlinePolicy\\\",\\\"PolicyDocument\\\":{\\\"Version\\\":\\\"2012-10-17\\\",\\\"Statement\\\":[{\\\"Action\\\":[\\\"codebuild:StartBuild\\\"],\\\"Resource\\\":\\\"arn:aws:codebuild:ap-southeast-2:057716757052:project/CfnTemplatePackageProject-mKFQ6zHPyfLL\\\",\\\"Effect\\\":\\\"Allow\\\",\\\"Sid\\\":\\\"CodeBuildPermission\\\"}]}}],\\\"AssumeRolePolicyDocument\\\":{\\\"Version\\\":\\\"2012-10-17\\\",\\\"Statement\\\":[{\\\"Action\\\":[\\\"sts:AssumeRole\\\"],\\\"Effect\\\":\\\"Allow\\\",\\\"Principal\\\":{\\\"Service\\\":[\\\"lambda.amazonaws.com\\\"]}}]}}\"\n",
      "        },\n",
      "        {\n",
      "            \"StackId\": \"arn:aws:cloudformation:ap-southeast-2:057716757052:stack/amazon-sagemaker-reusable-components-package-cfn/d112c110-7929-11ec-9477-0275392b8e7c\",\n",
      "            \"EventId\": \"StartBuildLambda-DELETE_FAILED-2022-01-19T13:16:36.579Z\",\n",
      "            \"StackName\": \"amazon-sagemaker-reusable-components-package-cfn\",\n",
      "            \"LogicalResourceId\": \"StartBuildLambda\",\n",
      "            \"PhysicalResourceId\": \"amazon-sagemaker-reusable-compone-StartBuildLambda-Ge3niuD1oIml\",\n",
      "            \"ResourceType\": \"AWS::Lambda::Function\",\n",
      "            \"Timestamp\": \"2022-01-19T13:16:36.579Z\",\n",
      "            \"ResourceStatus\": \"DELETE_FAILED\",\n",
      "            \"ResourceStatusReason\": \"Resource handler returned message: \\\"User: arn:aws:sts::057716757052:assumed-role/mlops-sagemaker-project-gsmoon/SageMaker is not authorized to perform: lambda:DeleteFunction on resource: arn:aws:lambda:ap-southeast-2:057716757052:function:amazon-sagemaker-reusable-compone-StartBuildLambda-Ge3niuD1oIml because no identity-based policy allows the lambda:DeleteFunction action (Service: Lambda, Status Code: 403, Request ID: 8bf02813-aba4-4191-ad24-1e8a4db88c8f, Extended Request ID: null)\\\" (RequestToken: e8c8b727-043b-d402-c3f3-aad9bec569fe, HandlerErrorCode: GeneralServiceException)\",\n",
      "            \"ResourceProperties\": \"{\\\"Role\\\":\\\"arn:aws:iam::057716757052:role/amazon-sagemaker-reusable-StartBuildLambdaExecutio-YP8J5GNAZHB1\\\",\\\"MemorySize\\\":\\\"128\\\",\\\"Runtime\\\":\\\"python3.8\\\",\\\"Description\\\":\\\"Start CodeBuild project\\\",\\\"Timeout\\\":\\\"120\\\",\\\"Handler\\\":\\\"index.lambda_handler\\\",\\\"ReservedConcurrentExecutions\\\":\\\"1\\\",\\\"Code\\\":{\\\"ZipFile\\\":\\\"# Copyright Amazon.com, Inc. or its affiliates. All Rights Reserved.\\\\n# SPDX-License-Identifier: MIT-0\\\\nimport json\\\\nimport boto3\\\\nimport cfnresponse\\\\n\\\\ncb = boto3.client(\\\\\\\"codebuild\\\\\\\")\\\\n\\\\ndef lambda_handler(event, context):\\\\n    try:\\\\n        response_status = cfnresponse.SUCCESS\\\\n\\\\n        if 'RequestType' in event and event['RequestType'] == 'Create':\\\\n            cb.start_build(projectName=event['ResourceProperties']['ProjectName'])\\\\n            \\\\n        cfnresponse.send(event, context, response_status, {}, '')\\\\n\\\\n    except Exception as e:\\\\n        print(str(e))\\\\n        cfnresponse.send(event, context, cfnresponse.FAILED, {}, physicalResourceId=event.get('PhysicalResourceId'), reason=str(e))\\\\n\\\"}}\"\n",
      "        },\n",
      "        {\n",
      "            \"StackId\": \"arn:aws:cloudformation:ap-southeast-2:057716757052:stack/amazon-sagemaker-reusable-components-package-cfn/d112c110-7929-11ec-9477-0275392b8e7c\",\n",
      "            \"EventId\": \"StartBuildLambda-DELETE_IN_PROGRESS-2022-01-19T13:16:35.034Z\",\n",
      "            \"StackName\": \"amazon-sagemaker-reusable-components-package-cfn\",\n",
      "            \"LogicalResourceId\": \"StartBuildLambda\",\n",
      "            \"PhysicalResourceId\": \"amazon-sagemaker-reusable-compone-StartBuildLambda-Ge3niuD1oIml\",\n",
      "            \"ResourceType\": \"AWS::Lambda::Function\",\n",
      "            \"Timestamp\": \"2022-01-19T13:16:35.034Z\",\n",
      "            \"ResourceStatus\": \"DELETE_IN_PROGRESS\",\n",
      "            \"ResourceProperties\": \"{\\\"Role\\\":\\\"arn:aws:iam::057716757052:role/amazon-sagemaker-reusable-StartBuildLambdaExecutio-YP8J5GNAZHB1\\\",\\\"MemorySize\\\":\\\"128\\\",\\\"Runtime\\\":\\\"python3.8\\\",\\\"Description\\\":\\\"Start CodeBuild project\\\",\\\"Timeout\\\":\\\"120\\\",\\\"Handler\\\":\\\"index.lambda_handler\\\",\\\"ReservedConcurrentExecutions\\\":\\\"1\\\",\\\"Code\\\":{\\\"ZipFile\\\":\\\"# Copyright Amazon.com, Inc. or its affiliates. All Rights Reserved.\\\\n# SPDX-License-Identifier: MIT-0\\\\nimport json\\\\nimport boto3\\\\nimport cfnresponse\\\\n\\\\ncb = boto3.client(\\\\\\\"codebuild\\\\\\\")\\\\n\\\\ndef lambda_handler(event, context):\\\\n    try:\\\\n        response_status = cfnresponse.SUCCESS\\\\n\\\\n        if 'RequestType' in event and event['RequestType'] == 'Create':\\\\n            cb.start_build(projectName=event['ResourceProperties']['ProjectName'])\\\\n            \\\\n        cfnresponse.send(event, context, response_status, {}, '')\\\\n\\\\n    except Exception as e:\\\\n        print(str(e))\\\\n        cfnresponse.send(event, context, cfnresponse.FAILED, {}, physicalResourceId=event.get('PhysicalResourceId'), reason=str(e))\\\\n\\\"}}\"\n",
      "        },\n",
      "        {\n",
      "            \"StackId\": \"arn:aws:cloudformation:ap-southeast-2:057716757052:stack/amazon-sagemaker-reusable-components-package-cfn/d112c110-7929-11ec-9477-0275392b8e7c\",\n",
      "            \"EventId\": \"00eb4a10-792a-11ec-a134-06326d92a982\",\n",
      "            \"StackName\": \"amazon-sagemaker-reusable-components-package-cfn\",\n",
      "            \"LogicalResourceId\": \"amazon-sagemaker-reusable-components-package-cfn\",\n",
      "            \"PhysicalResourceId\": \"arn:aws:cloudformation:ap-southeast-2:057716757052:stack/amazon-sagemaker-reusable-components-package-cfn/d112c110-7929-11ec-9477-0275392b8e7c\",\n",
      "            \"ResourceType\": \"AWS::CloudFormation::Stack\",\n",
      "            \"Timestamp\": \"2022-01-19T13:16:25.251Z\",\n",
      "            \"ResourceStatus\": \"ROLLBACK_IN_PROGRESS\",\n",
      "            \"ResourceStatusReason\": \"The following resource(s) failed to create: [StartBuildLambda]. Rollback requested by user.\"\n",
      "        },\n",
      "        {\n",
      "            \"StackId\": \"arn:aws:cloudformation:ap-southeast-2:057716757052:stack/amazon-sagemaker-reusable-components-package-cfn/d112c110-7929-11ec-9477-0275392b8e7c\",\n",
      "            \"EventId\": \"StartBuildLambda-CREATE_FAILED-2022-01-19T13:16:24.458Z\",\n",
      "            \"StackName\": \"amazon-sagemaker-reusable-components-package-cfn\",\n",
      "            \"LogicalResourceId\": \"StartBuildLambda\",\n",
      "            \"PhysicalResourceId\": \"amazon-sagemaker-reusable-compone-StartBuildLambda-Ge3niuD1oIml\",\n",
      "            \"ResourceType\": \"AWS::Lambda::Function\",\n",
      "            \"Timestamp\": \"2022-01-19T13:16:24.458Z\",\n",
      "            \"ResourceStatus\": \"CREATE_FAILED\",\n",
      "            \"ResourceStatusReason\": \"Resource handler returned message: \\\"User: arn:aws:sts::057716757052:assumed-role/mlops-sagemaker-project-gsmoon/SageMaker is not authorized to perform: lambda:CreateFunction on resource: arn:aws:lambda:ap-southeast-2:057716757052:function:amazon-sagemaker-reusable-compone-StartBuildLambda-Ge3niuD1oIml because no identity-based policy allows the lambda:CreateFunction action (Service: Lambda, Status Code: 403, Request ID: c3d04280-da98-4e64-8068-e28fbed47a0d, Extended Request ID: null)\\\" (RequestToken: c1a94145-0e99-920c-e956-d05b16d2bec7, HandlerErrorCode: AccessDenied)\",\n",
      "            \"ResourceProperties\": \"{\\\"Role\\\":\\\"arn:aws:iam::057716757052:role/amazon-sagemaker-reusable-StartBuildLambdaExecutio-YP8J5GNAZHB1\\\",\\\"MemorySize\\\":\\\"128\\\",\\\"Runtime\\\":\\\"python3.8\\\",\\\"Description\\\":\\\"Start CodeBuild project\\\",\\\"Timeout\\\":\\\"120\\\",\\\"Handler\\\":\\\"index.lambda_handler\\\",\\\"ReservedConcurrentExecutions\\\":\\\"1\\\",\\\"Code\\\":{\\\"ZipFile\\\":\\\"# Copyright Amazon.com, Inc. or its affiliates. All Rights Reserved.\\\\n# SPDX-License-Identifier: MIT-0\\\\nimport json\\\\nimport boto3\\\\nimport cfnresponse\\\\n\\\\ncb = boto3.client(\\\\\\\"codebuild\\\\\\\")\\\\n\\\\ndef lambda_handler(event, context):\\\\n    try:\\\\n        response_status = cfnresponse.SUCCESS\\\\n\\\\n        if 'RequestType' in event and event['RequestType'] == 'Create':\\\\n            cb.start_build(projectName=event['ResourceProperties']['ProjectName'])\\\\n            \\\\n        cfnresponse.send(event, context, response_status, {}, '')\\\\n\\\\n    except Exception as e:\\\\n        print(str(e))\\\\n        cfnresponse.send(event, context, cfnresponse.FAILED, {}, physicalResourceId=event.get('PhysicalResourceId'), reason=str(e))\\\\n\\\"}}\"\n",
      "        },\n",
      "        {\n",
      "            \"StackId\": \"arn:aws:cloudformation:ap-southeast-2:057716757052:stack/amazon-sagemaker-reusable-components-package-cfn/d112c110-7929-11ec-9477-0275392b8e7c\",\n",
      "            \"EventId\": \"StartBuildLambda-CREATE_IN_PROGRESS-2022-01-19T13:16:24.067Z\",\n",
      "            \"StackName\": \"amazon-sagemaker-reusable-components-package-cfn\",\n",
      "            \"LogicalResourceId\": \"StartBuildLambda\",\n",
      "            \"PhysicalResourceId\": \"amazon-sagemaker-reusable-compone-StartBuildLambda-Ge3niuD1oIml\",\n",
      "            \"ResourceType\": \"AWS::Lambda::Function\",\n",
      "            \"Timestamp\": \"2022-01-19T13:16:24.067Z\",\n",
      "            \"ResourceStatus\": \"CREATE_IN_PROGRESS\",\n",
      "            \"ResourceStatusReason\": \"Resource creation Initiated\",\n",
      "            \"ResourceProperties\": \"{\\\"Role\\\":\\\"arn:aws:iam::057716757052:role/amazon-sagemaker-reusable-StartBuildLambdaExecutio-YP8J5GNAZHB1\\\",\\\"MemorySize\\\":\\\"128\\\",\\\"Runtime\\\":\\\"python3.8\\\",\\\"Description\\\":\\\"Start CodeBuild project\\\",\\\"Timeout\\\":\\\"120\\\",\\\"Handler\\\":\\\"index.lambda_handler\\\",\\\"ReservedConcurrentExecutions\\\":\\\"1\\\",\\\"Code\\\":{\\\"ZipFile\\\":\\\"# Copyright Amazon.com, Inc. or its affiliates. All Rights Reserved.\\\\n# SPDX-License-Identifier: MIT-0\\\\nimport json\\\\nimport boto3\\\\nimport cfnresponse\\\\n\\\\ncb = boto3.client(\\\\\\\"codebuild\\\\\\\")\\\\n\\\\ndef lambda_handler(event, context):\\\\n    try:\\\\n        response_status = cfnresponse.SUCCESS\\\\n\\\\n        if 'RequestType' in event and event['RequestType'] == 'Create':\\\\n            cb.start_build(projectName=event['ResourceProperties']['ProjectName'])\\\\n            \\\\n        cfnresponse.send(event, context, response_status, {}, '')\\\\n\\\\n    except Exception as e:\\\\n        print(str(e))\\\\n        cfnresponse.send(event, context, cfnresponse.FAILED, {}, physicalResourceId=event.get('PhysicalResourceId'), reason=str(e))\\\\n\\\"}}\"\n",
      "        },\n",
      "        {\n",
      "            \"StackId\": \"arn:aws:cloudformation:ap-southeast-2:057716757052:stack/amazon-sagemaker-reusable-components-package-cfn/d112c110-7929-11ec-9477-0275392b8e7c\",\n",
      "            \"EventId\": \"StartBuildLambda-CREATE_IN_PROGRESS-2022-01-19T13:16:22.035Z\",\n",
      "            \"StackName\": \"amazon-sagemaker-reusable-components-package-cfn\",\n",
      "            \"LogicalResourceId\": \"StartBuildLambda\",\n",
      "            \"PhysicalResourceId\": \"\",\n",
      "            \"ResourceType\": \"AWS::Lambda::Function\",\n",
      "            \"Timestamp\": \"2022-01-19T13:16:22.035Z\",\n",
      "            \"ResourceStatus\": \"CREATE_IN_PROGRESS\",\n",
      "            \"ResourceProperties\": \"{\\\"Role\\\":\\\"arn:aws:iam::057716757052:role/amazon-sagemaker-reusable-StartBuildLambdaExecutio-YP8J5GNAZHB1\\\",\\\"MemorySize\\\":\\\"128\\\",\\\"Runtime\\\":\\\"python3.8\\\",\\\"Description\\\":\\\"Start CodeBuild project\\\",\\\"Timeout\\\":\\\"120\\\",\\\"Handler\\\":\\\"index.lambda_handler\\\",\\\"ReservedConcurrentExecutions\\\":\\\"1\\\",\\\"Code\\\":{\\\"ZipFile\\\":\\\"# Copyright Amazon.com, Inc. or its affiliates. All Rights Reserved.\\\\n# SPDX-License-Identifier: MIT-0\\\\nimport json\\\\nimport boto3\\\\nimport cfnresponse\\\\n\\\\ncb = boto3.client(\\\\\\\"codebuild\\\\\\\")\\\\n\\\\ndef lambda_handler(event, context):\\\\n    try:\\\\n        response_status = cfnresponse.SUCCESS\\\\n\\\\n        if 'RequestType' in event and event['RequestType'] == 'Create':\\\\n            cb.start_build(projectName=event['ResourceProperties']['ProjectName'])\\\\n            \\\\n        cfnresponse.send(event, context, response_status, {}, '')\\\\n\\\\n    except Exception as e:\\\\n        print(str(e))\\\\n        cfnresponse.send(event, context, cfnresponse.FAILED, {}, physicalResourceId=event.get('PhysicalResourceId'), reason=str(e))\\\\n\\\"}}\"\n",
      "        },\n",
      "        {\n",
      "            \"StackId\": \"arn:aws:cloudformation:ap-southeast-2:057716757052:stack/amazon-sagemaker-reusable-components-package-cfn/d112c110-7929-11ec-9477-0275392b8e7c\",\n",
      "            \"EventId\": \"StartBuildLambdaExecutionRole-CREATE_COMPLETE-2022-01-19T13:16:18.802Z\",\n",
      "            \"StackName\": \"amazon-sagemaker-reusable-components-package-cfn\",\n",
      "            \"LogicalResourceId\": \"StartBuildLambdaExecutionRole\",\n",
      "            \"PhysicalResourceId\": \"amazon-sagemaker-reusable-StartBuildLambdaExecutio-YP8J5GNAZHB1\",\n",
      "            \"ResourceType\": \"AWS::IAM::Role\",\n",
      "            \"Timestamp\": \"2022-01-19T13:16:18.802Z\",\n",
      "            \"ResourceStatus\": \"CREATE_COMPLETE\",\n",
      "            \"ResourceProperties\": \"{\\\"Path\\\":\\\"/\\\",\\\"ManagedPolicyArns\\\":[\\\"arn:aws:iam::aws:policy/service-role/AWSLambdaBasicExecutionRole\\\"],\\\"Policies\\\":[{\\\"PolicyName\\\":\\\"InlinePolicy\\\",\\\"PolicyDocument\\\":{\\\"Version\\\":\\\"2012-10-17\\\",\\\"Statement\\\":[{\\\"Action\\\":[\\\"codebuild:StartBuild\\\"],\\\"Resource\\\":\\\"arn:aws:codebuild:ap-southeast-2:057716757052:project/CfnTemplatePackageProject-mKFQ6zHPyfLL\\\",\\\"Effect\\\":\\\"Allow\\\",\\\"Sid\\\":\\\"CodeBuildPermission\\\"}]}}],\\\"AssumeRolePolicyDocument\\\":{\\\"Version\\\":\\\"2012-10-17\\\",\\\"Statement\\\":[{\\\"Action\\\":[\\\"sts:AssumeRole\\\"],\\\"Effect\\\":\\\"Allow\\\",\\\"Principal\\\":{\\\"Service\\\":[\\\"lambda.amazonaws.com\\\"]}}]}}\"\n",
      "        },\n",
      "        {\n",
      "            \"StackId\": \"arn:aws:cloudformation:ap-southeast-2:057716757052:stack/amazon-sagemaker-reusable-components-package-cfn/d112c110-7929-11ec-9477-0275392b8e7c\",\n",
      "            \"EventId\": \"StartBuildLambdaExecutionRole-CREATE_IN_PROGRESS-2022-01-19T13:15:50.838Z\",\n",
      "            \"StackName\": \"amazon-sagemaker-reusable-components-package-cfn\",\n",
      "            \"LogicalResourceId\": \"StartBuildLambdaExecutionRole\",\n",
      "            \"PhysicalResourceId\": \"amazon-sagemaker-reusable-StartBuildLambdaExecutio-YP8J5GNAZHB1\",\n",
      "            \"ResourceType\": \"AWS::IAM::Role\",\n",
      "            \"Timestamp\": \"2022-01-19T13:15:50.838Z\",\n",
      "            \"ResourceStatus\": \"CREATE_IN_PROGRESS\",\n",
      "            \"ResourceStatusReason\": \"Resource creation Initiated\",\n",
      "            \"ResourceProperties\": \"{\\\"Path\\\":\\\"/\\\",\\\"ManagedPolicyArns\\\":[\\\"arn:aws:iam::aws:policy/service-role/AWSLambdaBasicExecutionRole\\\"],\\\"Policies\\\":[{\\\"PolicyName\\\":\\\"InlinePolicy\\\",\\\"PolicyDocument\\\":{\\\"Version\\\":\\\"2012-10-17\\\",\\\"Statement\\\":[{\\\"Action\\\":[\\\"codebuild:StartBuild\\\"],\\\"Resource\\\":\\\"arn:aws:codebuild:ap-southeast-2:057716757052:project/CfnTemplatePackageProject-mKFQ6zHPyfLL\\\",\\\"Effect\\\":\\\"Allow\\\",\\\"Sid\\\":\\\"CodeBuildPermission\\\"}]}}],\\\"AssumeRolePolicyDocument\\\":{\\\"Version\\\":\\\"2012-10-17\\\",\\\"Statement\\\":[{\\\"Action\\\":[\\\"sts:AssumeRole\\\"],\\\"Effect\\\":\\\"Allow\\\",\\\"Principal\\\":{\\\"Service\\\":[\\\"lambda.amazonaws.com\\\"]}}]}}\"\n",
      "        },\n",
      "        {\n",
      "            \"StackId\": \"arn:aws:cloudformation:ap-southeast-2:057716757052:stack/amazon-sagemaker-reusable-components-package-cfn/d112c110-7929-11ec-9477-0275392b8e7c\",\n",
      "            \"EventId\": \"StartBuildLambdaExecutionRole-CREATE_IN_PROGRESS-2022-01-19T13:15:49.486Z\",\n",
      "            \"StackName\": \"amazon-sagemaker-reusable-components-package-cfn\",\n",
      "            \"LogicalResourceId\": \"StartBuildLambdaExecutionRole\",\n",
      "            \"PhysicalResourceId\": \"\",\n",
      "            \"ResourceType\": \"AWS::IAM::Role\",\n",
      "            \"Timestamp\": \"2022-01-19T13:15:49.486Z\",\n",
      "            \"ResourceStatus\": \"CREATE_IN_PROGRESS\",\n",
      "            \"ResourceProperties\": \"{\\\"Path\\\":\\\"/\\\",\\\"ManagedPolicyArns\\\":[\\\"arn:aws:iam::aws:policy/service-role/AWSLambdaBasicExecutionRole\\\"],\\\"Policies\\\":[{\\\"PolicyName\\\":\\\"InlinePolicy\\\",\\\"PolicyDocument\\\":{\\\"Version\\\":\\\"2012-10-17\\\",\\\"Statement\\\":[{\\\"Action\\\":[\\\"codebuild:StartBuild\\\"],\\\"Resource\\\":\\\"arn:aws:codebuild:ap-southeast-2:057716757052:project/CfnTemplatePackageProject-mKFQ6zHPyfLL\\\",\\\"Effect\\\":\\\"Allow\\\",\\\"Sid\\\":\\\"CodeBuildPermission\\\"}]}}],\\\"AssumeRolePolicyDocument\\\":{\\\"Version\\\":\\\"2012-10-17\\\",\\\"Statement\\\":[{\\\"Action\\\":[\\\"sts:AssumeRole\\\"],\\\"Effect\\\":\\\"Allow\\\",\\\"Principal\\\":{\\\"Service\\\":[\\\"lambda.amazonaws.com\\\"]}}]}}\"\n",
      "        },\n",
      "        {\n",
      "            \"StackId\": \"arn:aws:cloudformation:ap-southeast-2:057716757052:stack/amazon-sagemaker-reusable-components-package-cfn/d112c110-7929-11ec-9477-0275392b8e7c\",\n",
      "            \"EventId\": \"CfnTemplatePackageProject-CREATE_COMPLETE-2022-01-19T13:15:47.424Z\",\n",
      "            \"StackName\": \"amazon-sagemaker-reusable-components-package-cfn\",\n",
      "            \"LogicalResourceId\": \"CfnTemplatePackageProject\",\n",
      "            \"PhysicalResourceId\": \"CfnTemplatePackageProject-mKFQ6zHPyfLL\",\n",
      "            \"ResourceType\": \"AWS::CodeBuild::Project\",\n",
      "            \"Timestamp\": \"2022-01-19T13:15:47.424Z\",\n",
      "            \"ResourceStatus\": \"CREATE_COMPLETE\",\n",
      "            \"ResourceProperties\": \"{\\\"Artifacts\\\":{\\\"Type\\\":\\\"NO_ARTIFACTS\\\"},\\\"LogsConfig\\\":{\\\"CloudWatchLogs\\\":{\\\"Status\\\":\\\"ENABLED\\\"}},\\\"Description\\\":\\\"Packaging CFN templates into sagemaker-ap-southeast-2-057716757052\\\",\\\"ServiceRole\\\":\\\"arn:aws:iam::057716757052:role/service-role/amazon-sagemaker-reusable-com-CodeBuildServiceRole-30NGCRMDOGDN\\\",\\\"Environment\\\":{\\\"Type\\\":\\\"LINUX_CONTAINER\\\",\\\"EnvironmentVariables\\\":[{\\\"Value\\\":\\\"sagemaker-ap-southeast-2-057716757052\\\",\\\"Name\\\":\\\"S3_BUCKET_NAME\\\"},{\\\"Value\\\":\\\"ap-southeast-2\\\",\\\"Name\\\":\\\"DEPLOYMENT_REGION\\\"}],\\\"Image\\\":\\\"aws/codebuild/amazonlinux2-x86_64-standard:3.0\\\",\\\"ComputeType\\\":\\\"BUILD_GENERAL1_SMALL\\\"},\\\"Source\\\":{\\\"Type\\\":\\\"S3\\\",\\\"BuildSpec\\\":\\\"buildspec-package-cfn.yml\\\",\\\"Location\\\":\\\"sagemaker-ap-southeast-2-057716757052/amazon-sagemaker-reusable-components/amazon-sagemaker-reusable-components.zip\\\"},\\\"TimeoutInMinutes\\\":\\\"5\\\"}\"\n",
      "        },\n",
      "        {\n",
      "            \"StackId\": \"arn:aws:cloudformation:ap-southeast-2:057716757052:stack/amazon-sagemaker-reusable-components-package-cfn/d112c110-7929-11ec-9477-0275392b8e7c\",\n",
      "            \"EventId\": \"CfnTemplatePackageProject-CREATE_IN_PROGRESS-2022-01-19T13:15:46.416Z\",\n",
      "            \"StackName\": \"amazon-sagemaker-reusable-components-package-cfn\",\n",
      "            \"LogicalResourceId\": \"CfnTemplatePackageProject\",\n",
      "            \"PhysicalResourceId\": \"CfnTemplatePackageProject-mKFQ6zHPyfLL\",\n",
      "            \"ResourceType\": \"AWS::CodeBuild::Project\",\n",
      "            \"Timestamp\": \"2022-01-19T13:15:46.416Z\",\n",
      "            \"ResourceStatus\": \"CREATE_IN_PROGRESS\",\n",
      "            \"ResourceStatusReason\": \"Resource creation Initiated\",\n",
      "            \"ResourceProperties\": \"{\\\"Artifacts\\\":{\\\"Type\\\":\\\"NO_ARTIFACTS\\\"},\\\"LogsConfig\\\":{\\\"CloudWatchLogs\\\":{\\\"Status\\\":\\\"ENABLED\\\"}},\\\"Description\\\":\\\"Packaging CFN templates into sagemaker-ap-southeast-2-057716757052\\\",\\\"ServiceRole\\\":\\\"arn:aws:iam::057716757052:role/service-role/amazon-sagemaker-reusable-com-CodeBuildServiceRole-30NGCRMDOGDN\\\",\\\"Environment\\\":{\\\"Type\\\":\\\"LINUX_CONTAINER\\\",\\\"EnvironmentVariables\\\":[{\\\"Value\\\":\\\"sagemaker-ap-southeast-2-057716757052\\\",\\\"Name\\\":\\\"S3_BUCKET_NAME\\\"},{\\\"Value\\\":\\\"ap-southeast-2\\\",\\\"Name\\\":\\\"DEPLOYMENT_REGION\\\"}],\\\"Image\\\":\\\"aws/codebuild/amazonlinux2-x86_64-standard:3.0\\\",\\\"ComputeType\\\":\\\"BUILD_GENERAL1_SMALL\\\"},\\\"Source\\\":{\\\"Type\\\":\\\"S3\\\",\\\"BuildSpec\\\":\\\"buildspec-package-cfn.yml\\\",\\\"Location\\\":\\\"sagemaker-ap-southeast-2-057716757052/amazon-sagemaker-reusable-components/amazon-sagemaker-reusable-components.zip\\\"},\\\"TimeoutInMinutes\\\":\\\"5\\\"}\"\n",
      "        },\n",
      "        {\n",
      "            \"StackId\": \"arn:aws:cloudformation:ap-southeast-2:057716757052:stack/amazon-sagemaker-reusable-components-package-cfn/d112c110-7929-11ec-9477-0275392b8e7c\",\n",
      "            \"EventId\": \"CfnTemplatePackageProject-CREATE_IN_PROGRESS-2022-01-19T13:15:44.108Z\",\n",
      "            \"StackName\": \"amazon-sagemaker-reusable-components-package-cfn\",\n",
      "            \"LogicalResourceId\": \"CfnTemplatePackageProject\",\n",
      "            \"PhysicalResourceId\": \"\",\n",
      "            \"ResourceType\": \"AWS::CodeBuild::Project\",\n",
      "            \"Timestamp\": \"2022-01-19T13:15:44.108Z\",\n",
      "            \"ResourceStatus\": \"CREATE_IN_PROGRESS\",\n",
      "            \"ResourceProperties\": \"{\\\"Artifacts\\\":{\\\"Type\\\":\\\"NO_ARTIFACTS\\\"},\\\"LogsConfig\\\":{\\\"CloudWatchLogs\\\":{\\\"Status\\\":\\\"ENABLED\\\"}},\\\"Description\\\":\\\"Packaging CFN templates into sagemaker-ap-southeast-2-057716757052\\\",\\\"ServiceRole\\\":\\\"arn:aws:iam::057716757052:role/service-role/amazon-sagemaker-reusable-com-CodeBuildServiceRole-30NGCRMDOGDN\\\",\\\"Environment\\\":{\\\"Type\\\":\\\"LINUX_CONTAINER\\\",\\\"EnvironmentVariables\\\":[{\\\"Value\\\":\\\"sagemaker-ap-southeast-2-057716757052\\\",\\\"Name\\\":\\\"S3_BUCKET_NAME\\\"},{\\\"Value\\\":\\\"ap-southeast-2\\\",\\\"Name\\\":\\\"DEPLOYMENT_REGION\\\"}],\\\"Image\\\":\\\"aws/codebuild/amazonlinux2-x86_64-standard:3.0\\\",\\\"ComputeType\\\":\\\"BUILD_GENERAL1_SMALL\\\"},\\\"Source\\\":{\\\"Type\\\":\\\"S3\\\",\\\"BuildSpec\\\":\\\"buildspec-package-cfn.yml\\\",\\\"Location\\\":\\\"sagemaker-ap-southeast-2-057716757052/amazon-sagemaker-reusable-components/amazon-sagemaker-reusable-components.zip\\\"},\\\"TimeoutInMinutes\\\":\\\"5\\\"}\"\n",
      "        },\n",
      "        {\n",
      "            \"StackId\": \"arn:aws:cloudformation:ap-southeast-2:057716757052:stack/amazon-sagemaker-reusable-components-package-cfn/d112c110-7929-11ec-9477-0275392b8e7c\",\n",
      "            \"EventId\": \"CodeBuildServiceRole-CREATE_COMPLETE-2022-01-19T13:15:42.191Z\",\n",
      "            \"StackName\": \"amazon-sagemaker-reusable-components-package-cfn\",\n",
      "            \"LogicalResourceId\": \"CodeBuildServiceRole\",\n",
      "            \"PhysicalResourceId\": \"amazon-sagemaker-reusable-com-CodeBuildServiceRole-30NGCRMDOGDN\",\n",
      "            \"ResourceType\": \"AWS::IAM::Role\",\n",
      "            \"Timestamp\": \"2022-01-19T13:15:42.191Z\",\n",
      "            \"ResourceStatus\": \"CREATE_COMPLETE\",\n",
      "            \"ResourceProperties\": \"{\\\"Path\\\":\\\"/service-role/\\\",\\\"Policies\\\":[{\\\"PolicyName\\\":\\\"CodeBuildServiceRoleInLinePolicy\\\",\\\"PolicyDocument\\\":{\\\"Version\\\":\\\"2012-10-17\\\",\\\"Statement\\\":[{\\\"Action\\\":[\\\"logs:CreateLogGroup\\\",\\\"logs:CreateLogStream\\\",\\\"logs:PutLogEvents\\\"],\\\"Resource\\\":\\\"*\\\",\\\"Effect\\\":\\\"Allow\\\"},{\\\"Action\\\":[\\\"s3:*Object\\\",\\\"s3:GetObjectVersion\\\",\\\"s3:GetBucketAcl\\\",\\\"s3:GetBucketLocation\\\",\\\"s3:ListBucket\\\",\\\"s3:PutObjectTagging\\\",\\\"s3:CreateBucket\\\"],\\\"Resource\\\":[\\\"arn:aws:s3:::sagemaker-ap-southeast-2-057716757052\\\",\\\"arn:aws:s3:::sagemaker-ap-southeast-2-057716757052/*\\\"],\\\"Effect\\\":\\\"Allow\\\"},{\\\"Action\\\":[\\\"codebuild:CreateReportGroup\\\",\\\"codebuild:CreateReport\\\",\\\"codebuild:UpdateReport\\\",\\\"codebuild:BatchPutTestCases\\\",\\\"codebuild:BatchPutCodeCoverages\\\"],\\\"Resource\\\":\\\"arn:aws:codebuild:ap-southeast-2:057716757052:report-group/*\\\",\\\"Effect\\\":\\\"Allow\\\"}]}}],\\\"AssumeRolePolicyDocument\\\":{\\\"Version\\\":\\\"2012-10-17\\\",\\\"Statement\\\":[{\\\"Action\\\":\\\"sts:AssumeRole\\\",\\\"Effect\\\":\\\"Allow\\\",\\\"Principal\\\":{\\\"Service\\\":\\\"codebuild.amazonaws.com\\\"}}]}}\"\n",
      "        },\n",
      "        {\n",
      "            \"StackId\": \"arn:aws:cloudformation:ap-southeast-2:057716757052:stack/amazon-sagemaker-reusable-components-package-cfn/d112c110-7929-11ec-9477-0275392b8e7c\",\n",
      "            \"EventId\": \"CodeBuildServiceRole-CREATE_IN_PROGRESS-2022-01-19T13:15:14.865Z\",\n",
      "            \"StackName\": \"amazon-sagemaker-reusable-components-package-cfn\",\n",
      "            \"LogicalResourceId\": \"CodeBuildServiceRole\",\n",
      "            \"PhysicalResourceId\": \"amazon-sagemaker-reusable-com-CodeBuildServiceRole-30NGCRMDOGDN\",\n",
      "            \"ResourceType\": \"AWS::IAM::Role\",\n",
      "            \"Timestamp\": \"2022-01-19T13:15:14.865Z\",\n",
      "            \"ResourceStatus\": \"CREATE_IN_PROGRESS\",\n",
      "            \"ResourceStatusReason\": \"Resource creation Initiated\",\n",
      "            \"ResourceProperties\": \"{\\\"Path\\\":\\\"/service-role/\\\",\\\"Policies\\\":[{\\\"PolicyName\\\":\\\"CodeBuildServiceRoleInLinePolicy\\\",\\\"PolicyDocument\\\":{\\\"Version\\\":\\\"2012-10-17\\\",\\\"Statement\\\":[{\\\"Action\\\":[\\\"logs:CreateLogGroup\\\",\\\"logs:CreateLogStream\\\",\\\"logs:PutLogEvents\\\"],\\\"Resource\\\":\\\"*\\\",\\\"Effect\\\":\\\"Allow\\\"},{\\\"Action\\\":[\\\"s3:*Object\\\",\\\"s3:GetObjectVersion\\\",\\\"s3:GetBucketAcl\\\",\\\"s3:GetBucketLocation\\\",\\\"s3:ListBucket\\\",\\\"s3:PutObjectTagging\\\",\\\"s3:CreateBucket\\\"],\\\"Resource\\\":[\\\"arn:aws:s3:::sagemaker-ap-southeast-2-057716757052\\\",\\\"arn:aws:s3:::sagemaker-ap-southeast-2-057716757052/*\\\"],\\\"Effect\\\":\\\"Allow\\\"},{\\\"Action\\\":[\\\"codebuild:CreateReportGroup\\\",\\\"codebuild:CreateReport\\\",\\\"codebuild:UpdateReport\\\",\\\"codebuild:BatchPutTestCases\\\",\\\"codebuild:BatchPutCodeCoverages\\\"],\\\"Resource\\\":\\\"arn:aws:codebuild:ap-southeast-2:057716757052:report-group/*\\\",\\\"Effect\\\":\\\"Allow\\\"}]}}],\\\"AssumeRolePolicyDocument\\\":{\\\"Version\\\":\\\"2012-10-17\\\",\\\"Statement\\\":[{\\\"Action\\\":\\\"sts:AssumeRole\\\",\\\"Effect\\\":\\\"Allow\\\",\\\"Principal\\\":{\\\"Service\\\":\\\"codebuild.amazonaws.com\\\"}}]}}\"\n",
      "        },\n",
      "        {\n",
      "            \"StackId\": \"arn:aws:cloudformation:ap-southeast-2:057716757052:stack/amazon-sagemaker-reusable-components-package-cfn/d112c110-7929-11ec-9477-0275392b8e7c\",\n",
      "            \"EventId\": \"CodeBuildServiceRole-CREATE_IN_PROGRESS-2022-01-19T13:15:14.317Z\",\n",
      "            \"StackName\": \"amazon-sagemaker-reusable-components-package-cfn\",\n",
      "            \"LogicalResourceId\": \"CodeBuildServiceRole\",\n",
      "            \"PhysicalResourceId\": \"\",\n",
      "            \"ResourceType\": \"AWS::IAM::Role\",\n",
      "            \"Timestamp\": \"2022-01-19T13:15:14.317Z\",\n",
      "            \"ResourceStatus\": \"CREATE_IN_PROGRESS\",\n",
      "            \"ResourceProperties\": \"{\\\"Path\\\":\\\"/service-role/\\\",\\\"Policies\\\":[{\\\"PolicyName\\\":\\\"CodeBuildServiceRoleInLinePolicy\\\",\\\"PolicyDocument\\\":{\\\"Version\\\":\\\"2012-10-17\\\",\\\"Statement\\\":[{\\\"Action\\\":[\\\"logs:CreateLogGroup\\\",\\\"logs:CreateLogStream\\\",\\\"logs:PutLogEvents\\\"],\\\"Resource\\\":\\\"*\\\",\\\"Effect\\\":\\\"Allow\\\"},{\\\"Action\\\":[\\\"s3:*Object\\\",\\\"s3:GetObjectVersion\\\",\\\"s3:GetBucketAcl\\\",\\\"s3:GetBucketLocation\\\",\\\"s3:ListBucket\\\",\\\"s3:PutObjectTagging\\\",\\\"s3:CreateBucket\\\"],\\\"Resource\\\":[\\\"arn:aws:s3:::sagemaker-ap-southeast-2-057716757052\\\",\\\"arn:aws:s3:::sagemaker-ap-southeast-2-057716757052/*\\\"],\\\"Effect\\\":\\\"Allow\\\"},{\\\"Action\\\":[\\\"codebuild:CreateReportGroup\\\",\\\"codebuild:CreateReport\\\",\\\"codebuild:UpdateReport\\\",\\\"codebuild:BatchPutTestCases\\\",\\\"codebuild:BatchPutCodeCoverages\\\"],\\\"Resource\\\":\\\"arn:aws:codebuild:ap-southeast-2:057716757052:report-group/*\\\",\\\"Effect\\\":\\\"Allow\\\"}]}}],\\\"AssumeRolePolicyDocument\\\":{\\\"Version\\\":\\\"2012-10-17\\\",\\\"Statement\\\":[{\\\"Action\\\":\\\"sts:AssumeRole\\\",\\\"Effect\\\":\\\"Allow\\\",\\\"Principal\\\":{\\\"Service\\\":\\\"codebuild.amazonaws.com\\\"}}]}}\"\n",
      "        },\n",
      "        {\n",
      "            \"StackId\": \"arn:aws:cloudformation:ap-southeast-2:057716757052:stack/amazon-sagemaker-reusable-components-package-cfn/d112c110-7929-11ec-9477-0275392b8e7c\",\n",
      "            \"EventId\": \"d44f7580-7929-11ec-9fa4-02f016adf134\",\n",
      "            \"StackName\": \"amazon-sagemaker-reusable-components-package-cfn\",\n",
      "            \"LogicalResourceId\": \"amazon-sagemaker-reusable-components-package-cfn\",\n",
      "            \"PhysicalResourceId\": \"arn:aws:cloudformation:ap-southeast-2:057716757052:stack/amazon-sagemaker-reusable-components-package-cfn/d112c110-7929-11ec-9477-0275392b8e7c\",\n",
      "            \"ResourceType\": \"AWS::CloudFormation::Stack\",\n",
      "            \"Timestamp\": \"2022-01-19T13:15:10.408Z\",\n",
      "            \"ResourceStatus\": \"CREATE_IN_PROGRESS\",\n",
      "            \"ResourceStatusReason\": \"User Initiated\"\n",
      "        },\n",
      "        {\n",
      "            \"StackId\": \"arn:aws:cloudformation:ap-southeast-2:057716757052:stack/amazon-sagemaker-reusable-components-package-cfn/d112c110-7929-11ec-9477-0275392b8e7c\",\n",
      "            \"EventId\": \"d11272f0-7929-11ec-9477-0275392b8e7c\",\n",
      "            \"StackName\": \"amazon-sagemaker-reusable-components-package-cfn\",\n",
      "            \"LogicalResourceId\": \"amazon-sagemaker-reusable-components-package-cfn\",\n",
      "            \"PhysicalResourceId\": \"arn:aws:cloudformation:ap-southeast-2:057716757052:stack/amazon-sagemaker-reusable-components-package-cfn/d112c110-7929-11ec-9477-0275392b8e7c\",\n",
      "            \"ResourceType\": \"AWS::CloudFormation::Stack\",\n",
      "            \"Timestamp\": \"2022-01-19T13:15:05.087Z\",\n",
      "            \"ResourceStatus\": \"REVIEW_IN_PROGRESS\",\n",
      "            \"ResourceStatusReason\": \"User Initiated\"\n",
      "        }\n",
      "    ]\n",
      "}\n"
     ]
    }
   ],
   "source": [
    "# 스택 이벤트 실행 내역 보여주기\n",
    "! aws cloudformation describe-stack-events --stack-name amazon-sagemaker-reusable-components-package-cfn"
   ]
  },
  {
   "cell_type": "code",
   "execution_count": 98,
   "id": "9cab8ce4",
   "metadata": {},
   "outputs": [],
   "source": [
    "# 스택 삭제\n",
    "! aws cloudformation delete-stack --stack-name amazon-sagemaker-reusable-components-package-cfn"
   ]
  },
  {
   "cell_type": "markdown",
   "id": "b1615544",
   "metadata": {},
   "source": [
    "## A.2 S3 CLI 관련 명령어"
   ]
  },
  {
   "cell_type": "code",
   "execution_count": 53,
   "id": "5f5211ac",
   "metadata": {},
   "outputs": [
    {
     "name": "stdout",
     "output_type": "stream",
     "text": [
      "\n",
      "Error parsing parameter 'paths': Unable to retrieve https://s3.ap-northeast-2.amazonaws.com/mlops-gonsoomoon-share/amazon-sagemaker-reusable-components/sm-project-sc-portfolio.yaml: received non 200 status code of 403\n"
     ]
    }
   ],
   "source": [
    "! aws s3 ls https://s3.{bucket_region}.amazonaws.com/{bucket}/amazon-sagemaker-reusable-components/sm-project-sc-portfolio.yaml\n",
    "# ! aws s3 ls https://s3.ap-southeast-2.amazonaws.com/sagemaker-ap-southeast-2-057716757052/amazon-sagemaker-reusable-components/sm-project-sc-portfolio.yaml"
   ]
  },
  {
   "cell_type": "code",
   "execution_count": 97,
   "id": "3a9f8413",
   "metadata": {},
   "outputs": [
    {
     "name": "stdout",
     "output_type": "stream",
     "text": [
      "2022-01-23 10:42:21      22207 amazon-sagemaker-reusable-components/amazon-sagemaker-reusable-components.zip\n",
      "2022-01-23 10:42:23      15589 amazon-sagemaker-reusable-components/project-s3-fs-ingestion.yaml\n",
      "2022-01-23 10:42:22        606 amazon-sagemaker-reusable-components/seed-code/s3-fs-ingestion-v1.0.zip\n",
      "2022-01-23 10:42:23       7196 amazon-sagemaker-reusable-components/sm-project-sc-portfolio.yaml\n"
     ]
    }
   ],
   "source": [
    "! aws s3 ls {bucket} --recursive"
   ]
  },
  {
   "cell_type": "code",
   "execution_count": 84,
   "id": "21a27683",
   "metadata": {},
   "outputs": [
    {
     "name": "stdout",
     "output_type": "stream",
     "text": [
      "delete: s3://sagemaker-ap-southeast-2-057716757052/amazon-sagemaker-reusable-components/amazon-sagemaker-reusable-components.zip\n",
      "delete: s3://sagemaker-ap-southeast-2-057716757052/amazon-sagemaker-reusable-components/project-s3-fs-ingestion.yaml\n",
      "delete: s3://sagemaker-ap-southeast-2-057716757052/amazon-sagemaker-reusable-components/seed-code/s3-fs-ingestion-v1.0.zip\n",
      "delete: s3://sagemaker-ap-southeast-2-057716757052/amazon-sagemaker-reusable-components/sm-project-sc-portfolio.yaml\n"
     ]
    }
   ],
   "source": [
    "! aws s3 rm s3://{bucket} --recursive"
   ]
  },
  {
   "cell_type": "markdown",
   "id": "22887cdd",
   "metadata": {},
   "source": [
    "# B. 에러 케이스\n",
    "\n"
   ]
  },
  {
   "cell_type": "markdown",
   "id": "4fde27a0",
   "metadata": {},
   "source": [
    "## B.1 sm-project-sc-portfolio.yaml 스택 실행시 에러\n",
    "아래 스택 실행시에 에러 발생 함. \n",
    "\n",
    "Template error: Fn::Select cannot select nonexistent value at index 2\n",
    "\n",
    "```\n",
    "AmazonSageMakerExecutionRoleName:\n",
    "    Description: Name of the Amazon SageMaker execution role\n",
    "    Value:\n",
    "      Fn::Select:\n",
    "      - 1 # 기존에 2 였음. 1로 변경 함\n",
    "```\n",
    "아래 파일을 다음과 같이 변경 \n",
    "amazon-sagemaker-reusable-components/build/sm-project-sc-portfolio.yaml\n",
    "```\n",
    "Before:\n",
    "  AmazonSageMakerExecutionRoleName:\n",
    "    Description: Name of the Amazon SageMaker execution role\n",
    "    Value: !Select [2, !Split ['/', !Ref SCPortfolioPrincipalRoleArn ] ] \n",
    "```\n",
    "```\n",
    "After: \n",
    "  AmazonSageMakerExecutionRoleName:\n",
    "    Description: Name of the Amazon SageMaker execution role\n",
    "    Value: !Select [1, !Split ['/', !Ref SCPortfolioPrincipalRoleArn ] ] \n",
    "\n",
    "\n",
    "```"
   ]
  },
  {
   "cell_type": "markdown",
   "id": "03bc6c30",
   "metadata": {},
   "source": [
    "## B.2 에러: seed-code/s3-fs-ingestion-v1.0.zip 생성시 전부 아티펙트를 포함하지 않음.\n",
    "```\n",
    "Zipping MLOps project seed code\n",
    "147\t  adding: .ipynb_checkpoints/ (stored 0%)\n",
    "148\t  adding: .ipynb_checkpoints/buildspec-checkpoint.yml (deflated 54%)\n",
    "149\t  adding: buildspec.yml (deflated 54%)\n",
    "```\n",
    "정상 케이스\n",
    "```\n",
    "Zipping MLOps project seed code\n",
    "  adding: LICENSE (deflated 39%)\n",
    "  adding: pipeline/ (stored 0%)\n",
    "  adding: pipeline/pipeline.py (deflated 70%)\n",
    "  adding: buildspec.yml (deflated 54%)\n",
    "  adding: .ipynb_checkpoints/ (stored 0%)\n",
    "  adding: .ipynb_checkpoints/buildspec-checkpoint.yml (deflated 54%)\n",
    "  adding: build.py (deflated 63%)\n",
    "  adding: README.md (stored 0%)\n",
    "  adding: functions/ (stored 0%)\n",
    "  adding: functions/start_fs_ingestion.py (deflated 58%)\n",
    "```\n",
    "\n",
    "### 해결\n",
    "- Before\n",
    "    - zip -r amazon-sagemaker-reusable-components.zip . -i \"*.yaml\" \"*.yml\" \"*.sh\"\n",
    "- After\n",
    "    - zip -r amazon-sagemaker-reusable-components.zip . -i \"*.yaml\" \"*.yml\" \"*.sh\" \"*.py\""
   ]
  },
  {
   "cell_type": "markdown",
   "id": "e12d103c",
   "metadata": {},
   "source": [
    "## B.3. 포트폴리오 및 프러덕트 배포시 에러\n",
    "- 서율리젼에서 진행싱 ProductLaunchRoleConstraint 생성시에 에러 발생. 원인을 찾지 못함. \n",
    "    - 시드니 리젼에서 실행하니 에러 발생 하지 않음. \n",
    "    - 조금 더 원인 파악이 필요 함.\n"
   ]
  },
  {
   "cell_type": "markdown",
   "id": "fbcee0bd",
   "metadata": {},
   "source": [
    "![error-deploy-portfolio-product.png](img2/error-deploy-portfolio-product.png)"
   ]
  },
  {
   "cell_type": "code",
   "execution_count": null,
   "id": "84aa4a94",
   "metadata": {},
   "outputs": [],
   "source": []
  }
 ],
 "metadata": {
  "kernelspec": {
   "display_name": "conda_python3",
   "language": "python",
   "name": "conda_python3"
  },
  "language_info": {
   "codemirror_mode": {
    "name": "ipython",
    "version": 3
   },
   "file_extension": ".py",
   "mimetype": "text/x-python",
   "name": "python",
   "nbconvert_exporter": "python",
   "pygments_lexer": "ipython3",
   "version": "3.6.13"
  }
 },
 "nbformat": 4,
 "nbformat_minor": 5
}
