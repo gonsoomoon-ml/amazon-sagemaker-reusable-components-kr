{
 "cells": [
  {
   "cell_type": "markdown",
   "metadata": {},
   "source": [
    "# 리소스 제거\n",
    "❗ 이 노트북은 데이터 변환 및 피쳐 프로젝트에서 생성된 모든 리소스를 제거합니다. 다음 코드 셀은 다음을 수행합니다.\n",
    "- Studio 환경에서 프로비저닝한 프로젝트를 영구적으로 삭제\n",
    "- 피쳐 그룹 또는 그룹을 영구적으로 삭제\n",
    "- 프로젝트 프로비저닝된 S3 버킷을 영구적으로 삭제\n",
    "- 프로젝트 관련 접두사 아래에 있는 S3 버킷의 객체를 영구적으로 삭제\n",
    "- 관련 스택 제거"
   ]
  },
  {
   "cell_type": "markdown",
   "metadata": {},
   "source": [
    "<div class=\"alert alert-info\"> 💡 <strong> 소스를 삭제합니다. 삭제할 리소스의 이름을 다시 확인하십시오! </strong>\n",
    "</div>"
   ]
  },
  {
   "cell_type": "code",
   "execution_count": 2,
   "metadata": {},
   "outputs": [],
   "source": [
    "import sagemaker\n",
    "import boto3\n",
    "import time\n",
    "import json\n",
    "import os"
   ]
  },
  {
   "cell_type": "code",
   "execution_count": 3,
   "metadata": {},
   "outputs": [],
   "source": [
    "# load environment variables from %store\n",
    "%store -r "
   ]
  },
  {
   "cell_type": "code",
   "execution_count": 4,
   "metadata": {},
   "outputs": [
    {
     "name": "stdout",
     "output_type": "stream",
     "text": [
      "Stored variables and their in-db values:\n",
      "abalone_dataset_file_name             -> 'abalone.csv'\n",
      "abalone_dataset_local_url             -> '../dataset/abalone.csv'\n",
      "data_bucket                           -> 'sagemaker-ap-southeast-2-189546603447'\n",
      "domain_id                             -> 'd-bqnj3arguz1d'\n",
      "dw_flow_file_url                      -> 's3://sagemaker-ap-southeast-2-189546603447/featur\n",
      "dw_output_name                        -> 'a59ef526-30d3-481a-ac31-cb4f978f8413.default'\n",
      "execution_role                        -> 'arn:aws:iam::189546603447:role/MLOps-custom-templ\n",
      "feature_group_name                    -> 'FG-abalone-05-09-44-11-a856c9ef'\n",
      "s3_data_prefix                        -> 'sagemaker-ap-southeast-2-189546603447/feature-sto\n",
      "s3_flow_prefix                        -> 'sagemaker-ap-southeast-2-189546603447/feature-sto\n",
      "s3_fs_query_output_prefix             -> 'sagemaker-ap-southeast-2-189546603447/feature-sto\n",
      "s3_input_data_prefix                  -> 'sagemaker-ap-southeast-2-189546603447/feature-sto\n",
      "s3_to_fs_pipeline_name                -> 's3-fs-ingest-pipeline-p-8wp0z5luvu1v'\n"
     ]
    }
   ],
   "source": [
    "%store"
   ]
  },
  {
   "cell_type": "code",
   "execution_count": 5,
   "metadata": {},
   "outputs": [],
   "source": [
    "try:\n",
    "    s3_data_prefix\n",
    "    s3_flow_prefix\n",
    "    s3_input_data_prefix\n",
    "    s3_fs_query_output_prefix\n",
    "except NameError:\n",
    "    print(\"+++++++++++++++++++++++++++++++++++++++++++++++++++++++++++++++++++++++++++++++++++++\")\n",
    "    print(\"[ERROR] YOU HAVE TO RUN 00-setup.ipynb and 01-feature-store-ingest-pipeline notebooks\")\n",
    "    print(\"+++++++++++++++++++++++++++++++++++++++++++++++++++++++++++++++++++++++++++++++++++++\")"
   ]
  },
  {
   "cell_type": "code",
   "execution_count": 6,
   "metadata": {},
   "outputs": [],
   "source": [
    "sm = boto3.client(\"sagemaker\")\n",
    "s3 = boto3.resource('s3')"
   ]
  },
  {
   "cell_type": "markdown",
   "metadata": {},
   "source": [
    "# 1. 프로젝트 삭제"
   ]
  },
  {
   "cell_type": "code",
   "execution_count": 7,
   "metadata": {},
   "outputs": [
    {
     "name": "stdout",
     "output_type": "stream",
     "text": [
      "These projects have been created by domain d-bqnj3arguz1d: [\n",
      "  {\n",
      "    \"ProjectName\": \"s3-fs-ingest-05-11-54-15\",\n",
      "    \"ProjectId\": \"p-8wp0z5luvu1v\"\n",
      "  }\n",
      "]\n"
     ]
    }
   ],
   "source": [
    "# Get all projects created by the current domain\n",
    "projects = [\n",
    "    {\"ProjectName\":p[\"ProjectName\"], \"ProjectId\":p[\"ProjectId\"]} for p in sm.list_projects(MaxResults=100, SortBy=\"CreationTime\")[\"ProjectSummaryList\"] \n",
    "        if sm.describe_project(ProjectName=p[\"ProjectName\"])[\"CreatedBy\"][\"DomainId\"] == domain_id and p[\"ProjectStatus\"] == \"CreateCompleted\"\n",
    "]\n",
    "\n",
    "print(f\"These projects have been created by domain {domain_id}: {json.dumps(projects, indent=2)}\")"
   ]
  },
  {
   "cell_type": "code",
   "execution_count": 8,
   "metadata": {},
   "outputs": [
    {
     "name": "stdout",
     "output_type": "stream",
     "text": [
      "Are you sure you want to delete this project: s3-fs-ingest-05-11-54-15? (y/n)\n"
     ]
    },
    {
     "name": "stdin",
     "output_type": "stream",
     "text": [
      " y\n"
     ]
    },
    {
     "name": "stdout",
     "output_type": "stream",
     "text": [
      "***************************************\n",
      "The following projects will be deleted:\n",
      "[\n",
      "  {\n",
      "    \"ProjectName\": \"s3-fs-ingest-05-11-54-15\",\n",
      "    \"ProjectId\": \"p-8wp0z5luvu1v\"\n",
      "  }\n",
      "]\n",
      "***************************************\n"
     ]
    }
   ],
   "source": [
    "# Select projects to be deleted\n",
    "projects_to_delete = []\n",
    "\n",
    "for p in projects:\n",
    "    print(f\"Are you sure you want to delete this project: {p['ProjectName']}? (y/n)\")\n",
    "    choice = input()\n",
    "    if choice == 'y':\n",
    "        projects_to_delete.append(p)\n",
    "        \n",
    "print(f\"***************************************\")\n",
    "print(f\"The following projects will be deleted:\\n{json.dumps(projects_to_delete, indent=2)}\")\n",
    "print(f\"***************************************\")"
   ]
  },
  {
   "cell_type": "markdown",
   "metadata": {},
   "source": [
    "<div class=\"alert alert-info\"> 💡 <strong> 프로젝트를 삭제합니다. 모든 프로젝트 CodeCommit 코드 리포지토리 및 CI/CD CodePipeline 파이프라인이 삭제됩니다! </strong>\n",
    "</div>"
   ]
  },
  {
   "cell_type": "code",
   "execution_count": 9,
   "metadata": {},
   "outputs": [
    {
     "name": "stdout",
     "output_type": "stream",
     "text": [
      "Deleting project s3-fs-ingest-05-11-54-15:{'ResponseMetadata': {'RequestId': 'fd5f57ec-c751-4996-8ca4-0b315008e613', 'HTTPStatusCode': 200, 'HTTPHeaders': {'x-amzn-requestid': 'fd5f57ec-c751-4996-8ca4-0b315008e613', 'content-type': 'application/x-amz-json-1.1', 'content-length': '0', 'date': 'Sun, 06 Feb 2022 11:32:41 GMT'}, 'RetryAttempts': 0}}\n"
     ]
    }
   ],
   "source": [
    "for p in projects_to_delete:\n",
    "    try:\n",
    "        print(f\"Deleting project {p['ProjectName']}:{sm.delete_project(ProjectName=p['ProjectName'])}\")\n",
    "    except Exception:\n",
    "        pass"
   ]
  },
  {
   "cell_type": "markdown",
   "metadata": {},
   "source": [
    "# 2. 피쳐 스토어의 피쳐 그룹 삭제"
   ]
  },
  {
   "cell_type": "code",
   "execution_count": 10,
   "metadata": {},
   "outputs": [],
   "source": [
    "feature_groups = sm.list_feature_groups(\n",
    "    FeatureGroupStatusEquals=\"Created\", \n",
    "    SortOrder=\"Descending\", \n",
    "    SortBy=\"CreationTime\"\n",
    ")[\"FeatureGroupSummaries\"]"
   ]
  },
  {
   "cell_type": "code",
   "execution_count": 11,
   "metadata": {},
   "outputs": [
    {
     "data": {
      "text/plain": [
       "[{'FeatureGroupName': 'FG-abalone-05-09-44-11-a856c9ef',\n",
       "  'FeatureGroupArn': 'arn:aws:sagemaker:ap-southeast-2:189546603447:feature-group/fg-abalone-05-09-44-11-a856c9ef',\n",
       "  'CreationTime': datetime.datetime(2022, 2, 5, 10, 19, 57, 259000, tzinfo=tzlocal()),\n",
       "  'FeatureGroupStatus': 'Created'}]"
      ]
     },
     "execution_count": 11,
     "metadata": {},
     "output_type": "execute_result"
    }
   ],
   "source": [
    "feature_groups"
   ]
  },
  {
   "cell_type": "code",
   "execution_count": 12,
   "metadata": {},
   "outputs": [
    {
     "name": "stdout",
     "output_type": "stream",
     "text": [
      "Are you sure you want to delete this feature group: FG-abalone-05-09-44-11-a856c9ef? (y/n)\n"
     ]
    },
    {
     "name": "stdin",
     "output_type": "stream",
     "text": [
      " y\n"
     ]
    },
    {
     "name": "stdout",
     "output_type": "stream",
     "text": [
      "********************************************\n",
      "The following feature groups will be deleted:\n",
      "[\n",
      "  \"FG-abalone-05-09-44-11-a856c9ef\"\n",
      "]\n",
      "********************************************\n"
     ]
    }
   ],
   "source": [
    "# Select feature groups to be deleted\n",
    "feature_groups_to_delete = []\n",
    "\n",
    "for fg in feature_groups:\n",
    "    print(f\"Are you sure you want to delete this feature group: {fg['FeatureGroupName']}? (y/n)\")\n",
    "    choice = input()\n",
    "    if choice == 'y':\n",
    "        feature_groups_to_delete.append(fg[\"FeatureGroupName\"])\n",
    "        \n",
    "print(f\"********************************************\")\n",
    "print(f\"The following feature groups will be deleted:\\n{json.dumps(feature_groups_to_delete, indent=2)}\")\n",
    "print(f\"********************************************\")\n"
   ]
  },
  {
   "cell_type": "code",
   "execution_count": 13,
   "metadata": {},
   "outputs": [],
   "source": [
    "def delete_offline_store(feature_group_name: str):\n",
    "    try:\n",
    "        offline_store_config = sm.describe_feature_group(FeatureGroupName=feature_group_name)['OfflineStoreConfig']\n",
    "\n",
    "    except Exception:\n",
    "        print(f'Feature group: {feature_group_name} does NOT have an offline store!')\n",
    "        return\n",
    "    \n",
    "    offline_store_s3_uri = offline_store_config['S3StorageConfig']['ResolvedOutputS3Uri']\n",
    "    print(f\"all feature store objects under {offline_store_s3_uri} will be deleted!\")\n",
    "    print(\"Are you sure you want to these objects ? (y/n)\")\n",
    "    \n",
    "    choice = input()\n",
    "    if choice == 'y':\n",
    "        !aws s3 rm {offline_store_s3_uri} --recursive"
   ]
  },
  {
   "cell_type": "markdown",
   "metadata": {},
   "source": [
    "<div class=\"alert alert-info\"> 💡 <strong> 다음 코드 셀은 선택한 기능 그룹을 삭제합니다!</strong>\n",
    "</div>"
   ]
  },
  {
   "cell_type": "code",
   "execution_count": 15,
   "metadata": {},
   "outputs": [
    {
     "name": "stdout",
     "output_type": "stream",
     "text": [
      "Deleting the feature group: FG-abalone-05-09-44-11-a856c9ef\n",
      "all feature store objects under s3://sagemaker-ap-southeast-2-189546603447/189546603447/sagemaker/ap-southeast-2/offline-store/FG-abalone-05-09-44-11-a856c9ef-1644056397/data will be deleted!\n",
      "Are you sure you want to these objects ? (y/n)\n"
     ]
    },
    {
     "name": "stdin",
     "output_type": "stream",
     "text": [
      " y\n"
     ]
    },
    {
     "name": "stdout",
     "output_type": "stream",
     "text": [
      "delete: s3://sagemaker-ap-southeast-2-189546603447/189546603447/sagemaker/ap-southeast-2/offline-store/FG-abalone-05-09-44-11-a856c9ef-1644056397/data/year=2022/month=02/day=05/hour=13/part-00000-05207ee9-92c1-4fbd-88ec-4a0ddaa831ac.c000.parquet\n",
      "delete: s3://sagemaker-ap-southeast-2-189546603447/189546603447/sagemaker/ap-southeast-2/offline-store/FG-abalone-05-09-44-11-a856c9ef-1644056397/data/year=2022/month=02/day=05/hour=13/part-00001-05207ee9-92c1-4fbd-88ec-4a0ddaa831ac.c000.parquet\n",
      "delete: s3://sagemaker-ap-southeast-2-189546603447/189546603447/sagemaker/ap-southeast-2/offline-store/FG-abalone-05-09-44-11-a856c9ef-1644056397/data/year=2022/month=02/day=05/hour=13/part-00006-05207ee9-92c1-4fbd-88ec-4a0ddaa831ac.c000.parquet\n",
      "delete: s3://sagemaker-ap-southeast-2-189546603447/189546603447/sagemaker/ap-southeast-2/offline-store/FG-abalone-05-09-44-11-a856c9ef-1644056397/data/year=2022/month=02/day=05/hour=13/part-00015-05207ee9-92c1-4fbd-88ec-4a0ddaa831ac.c000.parquet\n",
      "delete: s3://sagemaker-ap-southeast-2-189546603447/189546603447/sagemaker/ap-southeast-2/offline-store/FG-abalone-05-09-44-11-a856c9ef-1644056397/data/year=2022/month=02/day=05/hour=13/part-00013-05207ee9-92c1-4fbd-88ec-4a0ddaa831ac.c000.parquet\n",
      "delete: s3://sagemaker-ap-southeast-2-189546603447/189546603447/sagemaker/ap-southeast-2/offline-store/FG-abalone-05-09-44-11-a856c9ef-1644056397/data/year=2022/month=02/day=05/hour=13/part-00003-05207ee9-92c1-4fbd-88ec-4a0ddaa831ac.c000.parquet\n",
      "delete: s3://sagemaker-ap-southeast-2-189546603447/189546603447/sagemaker/ap-southeast-2/offline-store/FG-abalone-05-09-44-11-a856c9ef-1644056397/data/year=2022/month=02/day=05/hour=13/part-00008-05207ee9-92c1-4fbd-88ec-4a0ddaa831ac.c000.parquet\n",
      "delete: s3://sagemaker-ap-southeast-2-189546603447/189546603447/sagemaker/ap-southeast-2/offline-store/FG-abalone-05-09-44-11-a856c9ef-1644056397/data/year=2022/month=02/day=05/hour=13/part-00007-05207ee9-92c1-4fbd-88ec-4a0ddaa831ac.c000.parquet\n",
      "delete: s3://sagemaker-ap-southeast-2-189546603447/189546603447/sagemaker/ap-southeast-2/offline-store/FG-abalone-05-09-44-11-a856c9ef-1644056397/data/year=2022/month=02/day=05/hour=13/part-00004-05207ee9-92c1-4fbd-88ec-4a0ddaa831ac.c000.parquet\n",
      "delete: s3://sagemaker-ap-southeast-2-189546603447/189546603447/sagemaker/ap-southeast-2/offline-store/FG-abalone-05-09-44-11-a856c9ef-1644056397/data/year=2022/month=02/day=05/hour=13/part-00009-05207ee9-92c1-4fbd-88ec-4a0ddaa831ac.c000.parquet\n",
      "delete: s3://sagemaker-ap-southeast-2-189546603447/189546603447/sagemaker/ap-southeast-2/offline-store/FG-abalone-05-09-44-11-a856c9ef-1644056397/data/year=2022/month=02/day=05/hour=13/part-00005-05207ee9-92c1-4fbd-88ec-4a0ddaa831ac.c000.parquet\n",
      "delete: s3://sagemaker-ap-southeast-2-189546603447/189546603447/sagemaker/ap-southeast-2/offline-store/FG-abalone-05-09-44-11-a856c9ef-1644056397/data/year=2022/month=02/day=05/hour=13/part-00002-05207ee9-92c1-4fbd-88ec-4a0ddaa831ac.c000.parquet\n",
      "delete: s3://sagemaker-ap-southeast-2-189546603447/189546603447/sagemaker/ap-southeast-2/offline-store/FG-abalone-05-09-44-11-a856c9ef-1644056397/data/year=2022/month=02/day=05/hour=13/part-00018-05207ee9-92c1-4fbd-88ec-4a0ddaa831ac.c000.parquet\n",
      "delete: s3://sagemaker-ap-southeast-2-189546603447/189546603447/sagemaker/ap-southeast-2/offline-store/FG-abalone-05-09-44-11-a856c9ef-1644056397/data/year=2022/month=02/day=05/hour=13/part-00012-05207ee9-92c1-4fbd-88ec-4a0ddaa831ac.c000.parquet\n",
      "delete: s3://sagemaker-ap-southeast-2-189546603447/189546603447/sagemaker/ap-southeast-2/offline-store/FG-abalone-05-09-44-11-a856c9ef-1644056397/data/year=2022/month=02/day=05/hour=13/part-00011-05207ee9-92c1-4fbd-88ec-4a0ddaa831ac.c000.parquet\n",
      "delete: s3://sagemaker-ap-southeast-2-189546603447/189546603447/sagemaker/ap-southeast-2/offline-store/FG-abalone-05-09-44-11-a856c9ef-1644056397/data/year=2022/month=02/day=05/hour=13/part-00017-05207ee9-92c1-4fbd-88ec-4a0ddaa831ac.c000.parquet\n",
      "delete: s3://sagemaker-ap-southeast-2-189546603447/189546603447/sagemaker/ap-southeast-2/offline-store/FG-abalone-05-09-44-11-a856c9ef-1644056397/data/year=2022/month=02/day=05/hour=13/part-00023-05207ee9-92c1-4fbd-88ec-4a0ddaa831ac.c000.parquet\n",
      "delete: s3://sagemaker-ap-southeast-2-189546603447/189546603447/sagemaker/ap-southeast-2/offline-store/FG-abalone-05-09-44-11-a856c9ef-1644056397/data/year=2022/month=02/day=05/hour=13/part-00022-05207ee9-92c1-4fbd-88ec-4a0ddaa831ac.c000.parquet\n",
      "delete: s3://sagemaker-ap-southeast-2-189546603447/189546603447/sagemaker/ap-southeast-2/offline-store/FG-abalone-05-09-44-11-a856c9ef-1644056397/data/year=2022/month=02/day=05/hour=13/part-00020-05207ee9-92c1-4fbd-88ec-4a0ddaa831ac.c000.parquet\n",
      "delete: s3://sagemaker-ap-southeast-2-189546603447/189546603447/sagemaker/ap-southeast-2/offline-store/FG-abalone-05-09-44-11-a856c9ef-1644056397/data/year=2022/month=02/day=05/hour=13/part-00016-05207ee9-92c1-4fbd-88ec-4a0ddaa831ac.c000.parquet\n",
      "delete: s3://sagemaker-ap-southeast-2-189546603447/189546603447/sagemaker/ap-southeast-2/offline-store/FG-abalone-05-09-44-11-a856c9ef-1644056397/data/year=2022/month=02/day=05/hour=13/part-00025-05207ee9-92c1-4fbd-88ec-4a0ddaa831ac.c000.parquet\n",
      "delete: s3://sagemaker-ap-southeast-2-189546603447/189546603447/sagemaker/ap-southeast-2/offline-store/FG-abalone-05-09-44-11-a856c9ef-1644056397/data/year=2022/month=02/day=05/hour=13/part-00024-05207ee9-92c1-4fbd-88ec-4a0ddaa831ac.c000.parquet\n",
      "delete: s3://sagemaker-ap-southeast-2-189546603447/189546603447/sagemaker/ap-southeast-2/offline-store/FG-abalone-05-09-44-11-a856c9ef-1644056397/data/year=2022/month=02/day=05/hour=13/part-00014-05207ee9-92c1-4fbd-88ec-4a0ddaa831ac.c000.parquet\n",
      "delete: s3://sagemaker-ap-southeast-2-189546603447/189546603447/sagemaker/ap-southeast-2/offline-store/FG-abalone-05-09-44-11-a856c9ef-1644056397/data/year=2022/month=02/day=05/hour=13/part-00028-05207ee9-92c1-4fbd-88ec-4a0ddaa831ac.c000.parquet\n",
      "delete: s3://sagemaker-ap-southeast-2-189546603447/189546603447/sagemaker/ap-southeast-2/offline-store/FG-abalone-05-09-44-11-a856c9ef-1644056397/data/year=2022/month=02/day=05/hour=13/part-00026-05207ee9-92c1-4fbd-88ec-4a0ddaa831ac.c000.parquet\n",
      "delete: s3://sagemaker-ap-southeast-2-189546603447/189546603447/sagemaker/ap-southeast-2/offline-store/FG-abalone-05-09-44-11-a856c9ef-1644056397/data/year=2022/month=02/day=05/hour=13/part-00010-05207ee9-92c1-4fbd-88ec-4a0ddaa831ac.c000.parquet\n",
      "delete: s3://sagemaker-ap-southeast-2-189546603447/189546603447/sagemaker/ap-southeast-2/offline-store/FG-abalone-05-09-44-11-a856c9ef-1644056397/data/year=2022/month=02/day=05/hour=13/part-00019-05207ee9-92c1-4fbd-88ec-4a0ddaa831ac.c000.parquet\n",
      "delete: s3://sagemaker-ap-southeast-2-189546603447/189546603447/sagemaker/ap-southeast-2/offline-store/FG-abalone-05-09-44-11-a856c9ef-1644056397/data/year=2022/month=02/day=05/hour=13/part-00027-05207ee9-92c1-4fbd-88ec-4a0ddaa831ac.c000.parquet\n",
      "delete: s3://sagemaker-ap-southeast-2-189546603447/189546603447/sagemaker/ap-southeast-2/offline-store/FG-abalone-05-09-44-11-a856c9ef-1644056397/data/year=2022/month=02/day=05/hour=13/part-00021-05207ee9-92c1-4fbd-88ec-4a0ddaa831ac.c000.parquet\n",
      "delete: s3://sagemaker-ap-southeast-2-189546603447/189546603447/sagemaker/ap-southeast-2/offline-store/FG-abalone-05-09-44-11-a856c9ef-1644056397/data/year=2022/month=02/day=05/hour=13/part-00029-05207ee9-92c1-4fbd-88ec-4a0ddaa831ac.c000.parquet\n",
      "delete: s3://sagemaker-ap-southeast-2-189546603447/189546603447/sagemaker/ap-southeast-2/offline-store/FG-abalone-05-09-44-11-a856c9ef-1644056397/data/year=2022/month=02/day=05/hour=13/part-00030-05207ee9-92c1-4fbd-88ec-4a0ddaa831ac.c000.parquet\n",
      "delete: s3://sagemaker-ap-southeast-2-189546603447/189546603447/sagemaker/ap-southeast-2/offline-store/FG-abalone-05-09-44-11-a856c9ef-1644056397/data/year=2022/month=02/day=05/hour=13/part-00031-05207ee9-92c1-4fbd-88ec-4a0ddaa831ac.c000.parquet\n"
     ]
    }
   ],
   "source": [
    "for fg in feature_groups_to_delete:\n",
    "    print(f\"Deleting the feature group: {fg}\")\n",
    "    delete_offline_store(fg)\n",
    "    sm.delete_feature_group(FeatureGroupName=fg)"
   ]
  },
  {
   "cell_type": "markdown",
   "metadata": {},
   "source": [
    "# 3. 프로젝트 프로비저닝된 S3 버킷 삭제"
   ]
  },
  {
   "cell_type": "markdown",
   "metadata": {},
   "source": [
    "<div class=\"alert alert-info\"> 💡 <strong> \n",
    "다음 코드 셀은 프로젝트에서 생성된 모든 S3 버킷을 삭제합니다!</strong>\n",
    "</div>"
   ]
  },
  {
   "cell_type": "code",
   "execution_count": 16,
   "metadata": {},
   "outputs": [
    {
     "name": "stdout",
     "output_type": "stream",
     "text": [
      "*****************************************************\n",
      "The following S3 buckets will be removed permanently!\n",
      "*****************************************************\n",
      "sagemaker-cp-s3-fs-ingest-05-11-54-15-p-8wp0z5luvu1v\n",
      "sagemaker-ct-s3-fs-ingest-05-11-54-15-p-8wp0z5luvu1v\n"
     ]
    }
   ],
   "source": [
    "print(f\"*****************************************************\")\n",
    "print(f\"The following S3 buckets will be removed permanently!\")\n",
    "print(f\"*****************************************************\")\n",
    "for p in projects_to_delete:\n",
    "    print(f\"sagemaker-cp-{p['ProjectName']}-{p['ProjectId']}\")\n",
    "    print(f\"sagemaker-ct-{p['ProjectName']}-{p['ProjectId']}\")"
   ]
  },
  {
   "cell_type": "code",
   "execution_count": 17,
   "metadata": {},
   "outputs": [
    {
     "name": "stdout",
     "output_type": "stream",
     "text": [
      "delete: s3://sagemaker-cp-s3-fs-ingest-05-11-54-15-p-8wp0z5luvu1v/sagemaker-s3-fs-inge/DataLoadPi/CSTyYbz\n",
      "remove_bucket: sagemaker-cp-s3-fs-ingest-05-11-54-15-p-8wp0z5luvu1v\n",
      "delete: s3://sagemaker-ct-s3-fs-ingest-05-11-54-15-p-8wp0z5luvu1v/AWSLogs/189546603447/CloudTrail/ap-southeast-2/2022/02/05/189546603447_CloudTrail_ap-southeast-2_20220205T1325Z_6Wa4MojVlsjBIB8h.json.gz\n",
      "delete: s3://sagemaker-ct-s3-fs-ingest-05-11-54-15-p-8wp0z5luvu1v/AWSLogs/189546603447/CloudTrail/\n",
      "delete: s3://sagemaker-ct-s3-fs-ingest-05-11-54-15-p-8wp0z5luvu1v/AWSLogs/189546603447/CloudTrail/ap-southeast-2/2022/02/05/189546603447_CloudTrail_ap-southeast-2_20220205T1200Z_qwx8kH1YLHn0Ed5C.json.gz\n",
      "delete: s3://sagemaker-ct-s3-fs-ingest-05-11-54-15-p-8wp0z5luvu1v/AWSLogs/189546603447/CloudTrail/ap-southeast-2/2022/02/05/189546603447_CloudTrail_ap-southeast-2_20220205T1340Z_mSv1G91aVAYGuxFC.json.gz\n",
      "delete: s3://sagemaker-ct-s3-fs-ingest-05-11-54-15-p-8wp0z5luvu1v/AWSLogs/189546603447/CloudTrail/ap-southeast-2/2022/02/05/189546603447_CloudTrail_ap-southeast-2_20220205T1455Z_yMfQsAHQu8XoWxH8.json.gz\n",
      "delete: s3://sagemaker-ct-s3-fs-ingest-05-11-54-15-p-8wp0z5luvu1v/AWSLogs/189546603447/CloudTrail/ap-southeast-2/2022/02/05/189546603447_CloudTrail_ap-southeast-2_20220205T1450Z_uIzeic6YwF7yH099.json.gz\n",
      "delete: s3://sagemaker-ct-s3-fs-ingest-05-11-54-15-p-8wp0z5luvu1v/AWSLogs/189546603447/CloudTrail/ap-southeast-2/2022/02/06/189546603447_CloudTrail_ap-southeast-2_20220206T0920Z_o2iYCc7Vy6yvaVKO.json.gz\n",
      "delete: s3://sagemaker-ct-s3-fs-ingest-05-11-54-15-p-8wp0z5luvu1v/AWSLogs/189546603447/CloudTrail/ap-southeast-2/2022/02/06/189546603447_CloudTrail_ap-southeast-2_20220206T0955Z_Lvj64TU0dVTZgros.json.gz\n",
      "delete: s3://sagemaker-ct-s3-fs-ingest-05-11-54-15-p-8wp0z5luvu1v/AWSLogs/189546603447/CloudTrail/ap-southeast-2/2022/02/05/189546603447_CloudTrail_ap-southeast-2_20220205T1330Z_TmFSpUCsLxRHNldS.json.gz\n",
      "delete: s3://sagemaker-ct-s3-fs-ingest-05-11-54-15-p-8wp0z5luvu1v/AWSLogs/189546603447/CloudTrail/ap-southeast-2/2022/02/05/189546603447_CloudTrail_ap-southeast-2_20220205T1540Z_dRSwtKuiiwvOihTk.json.gz\n",
      "delete: s3://sagemaker-ct-s3-fs-ingest-05-11-54-15-p-8wp0z5luvu1v/AWSLogs/189546603447/CloudTrail/ap-southeast-2/2022/02/06/189546603447_CloudTrail_ap-southeast-2_20220206T0940Z_lJSrzigFKStVl499.json.gz\n",
      "delete: s3://sagemaker-ct-s3-fs-ingest-05-11-54-15-p-8wp0z5luvu1v/AWSLogs/189546603447/CloudTrail/ap-southeast-2/2022/02/05/189546603447_CloudTrail_ap-southeast-2_20220205T1540Z_1dewhxSF0EwB1FCp.json.gz\n",
      "delete: s3://sagemaker-ct-s3-fs-ingest-05-11-54-15-p-8wp0z5luvu1v/AWSLogs/189546603447/CloudTrail/ap-southeast-2/2022/02/06/189546603447_CloudTrail_ap-southeast-2_20220206T0245Z_X9fLUOhoCbXzDsXv.json.gz\n",
      "delete: s3://sagemaker-ct-s3-fs-ingest-05-11-54-15-p-8wp0z5luvu1v/AWSLogs/189546603447/CloudTrail/ap-southeast-2/2022/02/06/189546603447_CloudTrail_ap-southeast-2_20220206T0935Z_FtF2nfOl2dWoKQ3a.json.gz\n",
      "delete: s3://sagemaker-ct-s3-fs-ingest-05-11-54-15-p-8wp0z5luvu1v/AWSLogs/189546603447/CloudTrail/ap-southeast-2/2022/02/05/189546603447_CloudTrail_ap-southeast-2_20220205T1440Z_We5IigWkEpcWdS66.json.gz\n",
      "delete: s3://sagemaker-ct-s3-fs-ingest-05-11-54-15-p-8wp0z5luvu1v/AWSLogs/189546603447/CloudTrail/ap-southeast-2/2022/02/05/189546603447_CloudTrail_ap-southeast-2_20220205T1325Z_DEeHhDtUakEaa0nV.json.gz\n",
      "delete: s3://sagemaker-ct-s3-fs-ingest-05-11-54-15-p-8wp0z5luvu1v/AWSLogs/189546603447/CloudTrail/ap-southeast-2/2022/02/06/189546603447_CloudTrail_ap-southeast-2_20220206T0905Z_USVnJW7C4ka01Jai.json.gz\n",
      "delete: s3://sagemaker-ct-s3-fs-ingest-05-11-54-15-p-8wp0z5luvu1v/AWSLogs/189546603447/CloudTrail/ap-southeast-2/2022/02/06/189546603447_CloudTrail_ap-southeast-2_20220206T0925Z_zlFsYY0RcvIdNVDG.json.gz\n",
      "delete: s3://sagemaker-ct-s3-fs-ingest-05-11-54-15-p-8wp0z5luvu1v/AWSLogs/189546603447/CloudTrail/ap-southeast-2/2022/02/06/189546603447_CloudTrail_ap-southeast-2_20220206T0130Z_4RZgdd127fA5T7k7.json.gz\n",
      "remove_bucket: sagemaker-ct-s3-fs-ingest-05-11-54-15-p-8wp0z5luvu1v\n"
     ]
    }
   ],
   "source": [
    "for p in projects_to_delete:\n",
    "    !aws s3 rb s3://sagemaker-cp-{p['ProjectName']}-{p['ProjectId']} --force    \n",
    "    !aws s3 rb s3://sagemaker-ct-{p['ProjectName']}-{p['ProjectId']} --force"
   ]
  },
  {
   "cell_type": "markdown",
   "metadata": {},
   "source": [
    "# 4. S3 데이터 버킷에서 프로젝트 관련 객체 제거"
   ]
  },
  {
   "cell_type": "markdown",
   "metadata": {},
   "source": [
    "<div class=\"alert alert-info\"> 💡 <strong> \n",
    "다음 코드 셀은 지정된 S3 접두사 아래의 모든 객체를 삭제합니다.!</strong>\n",
    "</div>"
   ]
  },
  {
   "cell_type": "code",
   "execution_count": 18,
   "metadata": {},
   "outputs": [],
   "source": [
    "prefixes_to_delete = [\n",
    "    s3_data_prefix,\n",
    "    s3_flow_prefix,\n",
    "    s3_input_data_prefix,\n",
    "    s3_fs_query_output_prefix\n",
    "]"
   ]
  },
  {
   "cell_type": "code",
   "execution_count": 19,
   "metadata": {},
   "outputs": [
    {
     "name": "stdout",
     "output_type": "stream",
     "text": [
      "************************************************************************\n",
      "All objects under the following S3 prefixes will be removed permanently!\n",
      "************************************************************************\n",
      "sagemaker-ap-southeast-2-189546603447/feature-store-ingestion-pipeline/dataset/\n",
      "sagemaker-ap-southeast-2-189546603447/feature-store-ingestion-pipeline/dw-flow/\n",
      "sagemaker-ap-southeast-2-189546603447/feature-store-ingestion-pipeline/landing-zone/\n",
      "sagemaker-ap-southeast-2-189546603447/feature-store-ingestion-pipeline/fs_query_results/\n"
     ]
    }
   ],
   "source": [
    "print(f\"************************************************************************\")\n",
    "print(f\"All objects under the following S3 prefixes will be removed permanently!\")\n",
    "print(f\"************************************************************************\")\n",
    "for p in prefixes_to_delete:\n",
    "    print(p)"
   ]
  },
  {
   "cell_type": "code",
   "execution_count": 20,
   "metadata": {},
   "outputs": [
    {
     "name": "stdout",
     "output_type": "stream",
     "text": [
      "delete: s3://sagemaker-ap-southeast-2-189546603447/feature-store-ingestion-pipeline/dataset/abalone.data\n",
      "delete: s3://sagemaker-ap-southeast-2-189546603447/feature-store-ingestion-pipeline/dataset/abalone.csv\n",
      "delete: s3://sagemaker-ap-southeast-2-189546603447/feature-store-ingestion-pipeline/dataset/abalone.names\n",
      "delete: s3://sagemaker-ap-southeast-2-189546603447/feature-store-ingestion-pipeline/dw-flow/dw2-flow-05-09-44-11-a856c9ef.flow\n",
      "delete: s3://sagemaker-ap-southeast-2-189546603447/feature-store-ingestion-pipeline/landing-zone/abalone-05-13-16-54.csv\n",
      "delete: s3://sagemaker-ap-southeast-2-189546603447/feature-store-ingestion-pipeline/fs_query_results/cf6643ba-32fc-4921-9d76-b5f79c5ebc49.csv\n",
      "delete: s3://sagemaker-ap-southeast-2-189546603447/feature-store-ingestion-pipeline/fs_query_results/1d4fe164-1fbb-4772-8459-e9ac721f4504.csv.metadata\n",
      "delete: s3://sagemaker-ap-southeast-2-189546603447/feature-store-ingestion-pipeline/fs_query_results/1d4fe164-1fbb-4772-8459-e9ac721f4504.csv\n",
      "delete: s3://sagemaker-ap-southeast-2-189546603447/feature-store-ingestion-pipeline/fs_query_results/cf6643ba-32fc-4921-9d76-b5f79c5ebc49.csv.metadata\n"
     ]
    }
   ],
   "source": [
    "for p in prefixes_to_delete:\n",
    "    !aws s3 rm s3://{p} --recursive"
   ]
  },
  {
   "cell_type": "markdown",
   "metadata": {},
   "source": [
    "## sm-project-sc-portfolio 스택 제거"
   ]
  },
  {
   "cell_type": "code",
   "execution_count": 2,
   "metadata": {},
   "outputs": [],
   "source": [
    "SC_PORTFOLIO_STACK_NAME='sm-project-sc-portfolio'"
   ]
  },
  {
   "cell_type": "code",
   "execution_count": 5,
   "metadata": {},
   "outputs": [
    {
     "name": "stdout",
     "output_type": "stream",
     "text": [
      "SM_SC_FS_INGESTION_POLICY_ARN :\n",
      "\n",
      "SM_EXECUTION_ROLE_POLICY_ARN :\n",
      "\n",
      "SM_EXECUTION_ROLE_NAME :\n",
      "Policies are detached\n",
      "Portfolio stack is deleted\n"
     ]
    },
    {
     "name": "stderr",
     "output_type": "stream",
     "text": [
      "\n",
      "An error occurred (ValidationError) when calling the DescribeStacks operation: Stack with id sm-project-sc-portfolio does not exist\n",
      "\n",
      "An error occurred (ValidationError) when calling the DescribeStacks operation: Stack with id sm-project-sc-portfolio does not exist\n",
      "\n",
      "An error occurred (ValidationError) when calling the DescribeStacks operation: Stack with id sm-project-sc-portfolio does not exist\n"
     ]
    }
   ],
   "source": [
    "%%sh -s \"{SC_PORTFOLIO_STACK_NAME}\" \n",
    "\n",
    "sc_portfolio_stack_name=$1\n",
    "export SM_SC_FS_INGESTION_POLICY_ARN=$(aws cloudformation describe-stacks \\\n",
    "    --stack-name $sc_portfolio_stack_name \\\n",
    "    --output text \\\n",
    "    --query 'Stacks[0].Outputs[?OutputKey==`FSIngestionProductPolicyArn`].OutputValue')\n",
    "\n",
    "echo 'SM_SC_FS_INGESTION_POLICY_ARN' : $SM_SC_FS_INGESTION_POLICY_ARN\n",
    "    \n",
    "export SM_EXECUTION_ROLE_POLICY_ARN=$(aws cloudformation describe-stacks \\\n",
    "    --stack-name $sc_portfolio_stack_name \\\n",
    "    --output text \\\n",
    "    --query 'Stacks[0].Outputs[?OutputKey==`AmazonSageMakerExecutionRolePolicyArn`].OutputValue')\n",
    "\n",
    "echo ''\n",
    "echo 'SM_EXECUTION_ROLE_POLICY_ARN' : $SM_EXECUTION_ROLE_POLICY_ARN    \n",
    "    \n",
    "export SM_EXECUTION_ROLE_NAME=$(aws cloudformation describe-stacks \\\n",
    "    --stack-name $sc_portfolio_stack_name \\\n",
    "    --output text \\\n",
    "    --query 'Stacks[0].Outputs[?OutputKey==`AmazonSageMakerExecutionRoleName`].OutputValue')\n",
    "\n",
    "echo ''\n",
    "echo 'SM_EXECUTION_ROLE_NAME' : $SM_EXECUTION_ROLE_NAME    \n",
    "\n",
    "echo \"Policies are detached\"    \n",
    "aws iam detach-role-policy \\\n",
    "    --role-name AmazonSageMakerServiceCatalogProductsLaunchRole \\\n",
    "    --policy-arn $SM_SC_FS_INGESTION_POLICY_ARN\n",
    "\n",
    "aws iam detach-role-policy \\\n",
    "    --role-name  $SM_EXECUTION_ROLE_NAME \\\n",
    "    --policy-arn $SM_EXECUTION_ROLE_POLICY_ARN\n",
    "\n",
    "echo \"Portfolio stack is deleted\"    \n",
    "aws cloudformation delete-stack --stack-name $sc_portfolio_stack_name\n",
    "\n"
   ]
  },
  {
   "cell_type": "markdown",
   "metadata": {},
   "source": [
    "# 5. 제공된 amazon-sagemaker-reusable-components-package-cfn 스택 제거"
   ]
  },
  {
   "cell_type": "code",
   "execution_count": 6,
   "metadata": {},
   "outputs": [],
   "source": [
    "%%sh\n",
    "aws cloudformation delete-stack --stack-name amazon-sagemaker-reusable-components-package-cfn"
   ]
  },
  {
   "cell_type": "markdown",
   "metadata": {},
   "source": [
    "# 6. 노트북 리소스 제거"
   ]
  },
  {
   "cell_type": "code",
   "execution_count": 7,
   "metadata": {},
   "outputs": [
    {
     "data": {
      "text/html": [
       "\n",
       "<p><b>Shutting down your kernel for this notebook to release resources.</b></p>\n",
       "<button class=\"sm-command-button\" data-commandlinker-command=\"kernelmenu:shutdown\" style=\"display:none;\">Shutdown Kernel</button>\n",
       "        \n",
       "<script>\n",
       "try {\n",
       "    els = document.getElementsByClassName(\"sm-command-button\");\n",
       "    els[0].click();\n",
       "}\n",
       "catch(err) {\n",
       "    // NoOp\n",
       "}    \n",
       "</script>\n"
      ],
      "text/plain": [
       "<IPython.core.display.HTML object>"
      ]
     },
     "metadata": {},
     "output_type": "display_data"
    }
   ],
   "source": [
    "%%html\n",
    "\n",
    "<p><b>Shutting down your kernel for this notebook to release resources.</b></p>\n",
    "<button class=\"sm-command-button\" data-commandlinker-command=\"kernelmenu:shutdown\" style=\"display:none;\">Shutdown Kernel</button>\n",
    "        \n",
    "<script>\n",
    "try {\n",
    "    els = document.getElementsByClassName(\"sm-command-button\");\n",
    "    els[0].click();\n",
    "}\n",
    "catch(err) {\n",
    "    // NoOp\n",
    "}    \n",
    "</script>"
   ]
  },
  {
   "cell_type": "markdown",
   "metadata": {},
   "source": [
    "# 7. 노트북 및 실행 중인 노트북 인스턴스를 종료"
   ]
  },
  {
   "cell_type": "markdown",
   "metadata": {},
   "source": [
    "<div class=\"alert alert-info\"> 💡 <strong>아래에서 노트북을 셧다운 해주세요. \n",
    "그리고 RUNNING INSTANCE 가 필요 없으면 역시 꺼주세요. \n",
    "\n",
    "</strong>\n",
    "</div>\n",
    "\n",
    "\n",
    "<img src=\"img/delete-resource.png\" width=400>"
   ]
  },
  {
   "cell_type": "markdown",
   "metadata": {},
   "source": [
    "# 8. Next\n",
    "계속 리소스 제거를 위해서 여기로 이동해주세요. [README-Action](../README-Action.md)"
   ]
  },
  {
   "cell_type": "code",
   "execution_count": null,
   "metadata": {},
   "outputs": [],
   "source": []
  }
 ],
 "metadata": {
  "kernelspec": {
   "display_name": "Python 3 (Data Science)",
   "language": "python",
   "name": "python3__SAGEMAKER_INTERNAL__arn:aws:sagemaker:ap-southeast-2:452832661640:image/datascience-1.0"
  },
  "language_info": {
   "codemirror_mode": {
    "name": "ipython",
    "version": 3
   },
   "file_extension": ".py",
   "mimetype": "text/x-python",
   "name": "python",
   "nbconvert_exporter": "python",
   "pygments_lexer": "ipython3",
   "version": "3.7.10"
  }
 },
 "nbformat": 4,
 "nbformat_minor": 4
}
