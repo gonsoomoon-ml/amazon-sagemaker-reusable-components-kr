{
 "cells": [
  {
   "cell_type": "markdown",
   "metadata": {},
   "source": [
    "# 리소스 제거\n",
    "❗ 이 노트북은 데이터 변환 및 피쳐 프로젝트에서 생성된 모든 리소스를 제거합니다. 다음 코드 셀은 다음을 수행합니다.\n",
    "- Studio 환경에서 프로비저닝한 프로젝트를 영구적으로 삭제\n",
    "- 피쳐 그룹 또는 그룹을 영구적으로 삭제\n",
    "- 프로젝트 프로비저닝된 S3 버킷을 영구적으로 삭제\n",
    "- 프로젝트 관련 접두사 아래에 있는 S3 버킷의 객체를 영구적으로 삭제\n",
    "- 관련 스택 제거"
   ]
  },
  {
   "cell_type": "markdown",
   "metadata": {},
   "source": [
    "<div class=\"alert alert-info\"> 💡 <strong> 소스를 삭제합니다. 삭제할 리소스의 이름을 다시 확인하십시오! </strong>\n",
    "</div>"
   ]
  },
  {
   "cell_type": "code",
   "execution_count": 23,
   "metadata": {},
   "outputs": [],
   "source": [
    "import sagemaker\n",
    "import boto3\n",
    "import time\n",
    "import json\n",
    "import os"
   ]
  },
  {
   "cell_type": "code",
   "execution_count": 24,
   "metadata": {},
   "outputs": [],
   "source": [
    "# load environment variables from %store\n",
    "%store -r "
   ]
  },
  {
   "cell_type": "code",
   "execution_count": 25,
   "metadata": {},
   "outputs": [
    {
     "name": "stdout",
     "output_type": "stream",
     "text": [
      "Stored variables and their in-db values:\n",
      "abalone_dataset_file_name             -> 'abalone.csv'\n",
      "abalone_dataset_local_url             -> '../dataset/abalone.csv'\n",
      "data_bucket                           -> 'sagemaker-ap-northeast-2-018763497627'\n",
      "domain_id                             -> 'd-lnzveulicvk5'\n",
      "dw_flow_file_url                      -> 's3://sagemaker-ap-northeast-2-018763497627/featur\n",
      "dw_output_name                        -> 'c8880ed5-b8a0-4375-899b-1c4d86828152.default'\n",
      "execution_role                        -> 'arn:aws:iam::018763497627:role/mod-6297809195fe48\n",
      "feature_group_name                    -> 'FG-abalone-07-11-03-08-2b69cb40'\n",
      "s3_data_prefix                        -> 'sagemaker-ap-northeast-2-018763497627/feature-sto\n",
      "s3_flow_prefix                        -> 'sagemaker-ap-northeast-2-018763497627/feature-sto\n",
      "s3_fs_query_output_prefix             -> 'sagemaker-ap-northeast-2-018763497627/feature-sto\n",
      "s3_input_data_prefix                  -> 'sagemaker-ap-northeast-2-018763497627/feature-sto\n",
      "s3_to_fs_pipeline_name                -> 's3-fs-ingest-pipeline-p-ygzud1btjy9u'\n"
     ]
    }
   ],
   "source": [
    "%store"
   ]
  },
  {
   "cell_type": "code",
   "execution_count": 26,
   "metadata": {},
   "outputs": [],
   "source": [
    "try:\n",
    "    s3_data_prefix\n",
    "    s3_flow_prefix\n",
    "    s3_input_data_prefix\n",
    "    s3_fs_query_output_prefix\n",
    "except NameError:\n",
    "    print(\"+++++++++++++++++++++++++++++++++++++++++++++++++++++++++++++++++++++++++++++++++++++\")\n",
    "    print(\"[ERROR] YOU HAVE TO RUN 00-setup.ipynb and 01-feature-store-ingest-pipeline notebooks\")\n",
    "    print(\"+++++++++++++++++++++++++++++++++++++++++++++++++++++++++++++++++++++++++++++++++++++\")"
   ]
  },
  {
   "cell_type": "code",
   "execution_count": 27,
   "metadata": {},
   "outputs": [],
   "source": [
    "sm = boto3.client(\"sagemaker\")\n",
    "s3 = boto3.resource('s3')"
   ]
  },
  {
   "cell_type": "markdown",
   "metadata": {},
   "source": [
    "# 1. 프로젝트 삭제\n",
    "- 셀 실행 후에 \"Y\" 를 입력 해주세요."
   ]
  },
  {
   "cell_type": "code",
   "execution_count": 28,
   "metadata": {},
   "outputs": [
    {
     "name": "stdout",
     "output_type": "stream",
     "text": [
      "These projects have been created by domain d-lnzveulicvk5: []\n"
     ]
    }
   ],
   "source": [
    "# Get all projects created by the current domain\n",
    "projects = [\n",
    "    {\"ProjectName\":p[\"ProjectName\"], \"ProjectId\":p[\"ProjectId\"]} for p in sm.list_projects(MaxResults=100, SortBy=\"CreationTime\")[\"ProjectSummaryList\"] \n",
    "        if sm.describe_project(ProjectName=p[\"ProjectName\"])[\"CreatedBy\"][\"DomainId\"] == domain_id and p[\"ProjectStatus\"] == \"CreateCompleted\"\n",
    "]\n",
    "\n",
    "print(f\"These projects have been created by domain {domain_id}: {json.dumps(projects, indent=2)}\")"
   ]
  },
  {
   "cell_type": "code",
   "execution_count": 29,
   "metadata": {},
   "outputs": [
    {
     "name": "stdout",
     "output_type": "stream",
     "text": [
      "***************************************\n",
      "The following projects will be deleted:\n",
      "[]\n",
      "***************************************\n"
     ]
    }
   ],
   "source": [
    "# Select projects to be deleted\n",
    "projects_to_delete = []\n",
    "\n",
    "for p in projects:\n",
    "    print(f\"Are you sure you want to delete this project: {p['ProjectName']}? (y/n)\")\n",
    "    choice = input()\n",
    "    if choice == 'y':\n",
    "        projects_to_delete.append(p)\n",
    "        \n",
    "print(f\"***************************************\")\n",
    "print(f\"The following projects will be deleted:\\n{json.dumps(projects_to_delete, indent=2)}\")\n",
    "print(f\"***************************************\")"
   ]
  },
  {
   "cell_type": "markdown",
   "metadata": {},
   "source": [
    "<div class=\"alert alert-info\"> 💡 <strong> 프로젝트를 삭제합니다. 모든 프로젝트 CodeCommit 코드 리포지토리 및 CI/CD CodePipeline 파이프라인이 삭제됩니다! </strong>\n",
    "</div>"
   ]
  },
  {
   "cell_type": "code",
   "execution_count": 9,
   "metadata": {},
   "outputs": [
    {
     "name": "stdout",
     "output_type": "stream",
     "text": [
      "Deleting project s3-fs-ingest-07-10-43-12:{'ResponseMetadata': {'RequestId': '8646ee9c-36d3-4179-aa8e-d67e0bc29b32', 'HTTPStatusCode': 200, 'HTTPHeaders': {'x-amzn-requestid': '8646ee9c-36d3-4179-aa8e-d67e0bc29b32', 'content-type': 'application/x-amz-json-1.1', 'content-length': '0', 'date': 'Mon, 07 Feb 2022 10:53:42 GMT'}, 'RetryAttempts': 0}}\n"
     ]
    }
   ],
   "source": [
    "for p in projects_to_delete:\n",
    "    try:\n",
    "        print(f\"Deleting project {p['ProjectName']}:{sm.delete_project(ProjectName=p['ProjectName'])}\")\n",
    "    except Exception:\n",
    "        pass"
   ]
  },
  {
   "cell_type": "markdown",
   "metadata": {},
   "source": [
    "# 2. 피쳐 스토어의 피쳐 그룹 삭제\n",
    "- 셀 실행 후에 \"Y\" 를 입력 해주세요."
   ]
  },
  {
   "cell_type": "code",
   "execution_count": 30,
   "metadata": {},
   "outputs": [],
   "source": [
    "feature_groups = sm.list_feature_groups(\n",
    "    FeatureGroupStatusEquals=\"Created\", \n",
    "    SortOrder=\"Descending\", \n",
    "    SortBy=\"CreationTime\"\n",
    ")[\"FeatureGroupSummaries\"]"
   ]
  },
  {
   "cell_type": "code",
   "execution_count": 31,
   "metadata": {},
   "outputs": [
    {
     "data": {
      "text/plain": [
       "[{'FeatureGroupName': 'FG-abalone-07-11-03-08-2b69cb40',\n",
       "  'FeatureGroupArn': 'arn:aws:sagemaker:ap-northeast-2:018763497627:feature-group/fg-abalone-07-11-03-08-2b69cb40',\n",
       "  'CreationTime': datetime.datetime(2022, 2, 7, 11, 3, 37, 693000, tzinfo=tzlocal()),\n",
       "  'FeatureGroupStatus': 'Created'}]"
      ]
     },
     "execution_count": 31,
     "metadata": {},
     "output_type": "execute_result"
    }
   ],
   "source": [
    "feature_groups"
   ]
  },
  {
   "cell_type": "code",
   "execution_count": 34,
   "metadata": {},
   "outputs": [
    {
     "name": "stdout",
     "output_type": "stream",
     "text": [
      "Are you sure you want to delete this feature group: FG-abalone-07-11-03-08-2b69cb40? (y/n)\n"
     ]
    },
    {
     "name": "stdin",
     "output_type": "stream",
     "text": [
      " y\n"
     ]
    },
    {
     "name": "stdout",
     "output_type": "stream",
     "text": [
      "********************************************\n",
      "The following feature groups will be deleted:\n",
      "[\n",
      "  \"FG-abalone-07-11-03-08-2b69cb40\"\n",
      "]\n",
      "********************************************\n"
     ]
    }
   ],
   "source": [
    "# Select feature groups to be deleted\n",
    "feature_groups_to_delete = []\n",
    "\n",
    "for fg in feature_groups:\n",
    "    print(f\"Are you sure you want to delete this feature group: {fg['FeatureGroupName']}? (y/n)\")\n",
    "    choice = input()\n",
    "    if choice == 'y':\n",
    "        feature_groups_to_delete.append(fg[\"FeatureGroupName\"])\n",
    "        \n",
    "print(f\"********************************************\")\n",
    "print(f\"The following feature groups will be deleted:\\n{json.dumps(feature_groups_to_delete, indent=2)}\")\n",
    "print(f\"********************************************\")\n"
   ]
  },
  {
   "cell_type": "code",
   "execution_count": 35,
   "metadata": {},
   "outputs": [],
   "source": [
    "def delete_offline_store(feature_group_name: str):\n",
    "    try:\n",
    "        offline_store_config = sm.describe_feature_group(FeatureGroupName=feature_group_name)['OfflineStoreConfig']\n",
    "\n",
    "    except Exception:\n",
    "        print(f'Feature group: {feature_group_name} does NOT have an offline store!')\n",
    "        return\n",
    "    \n",
    "    offline_store_s3_uri = offline_store_config['S3StorageConfig']['ResolvedOutputS3Uri']\n",
    "    print(f\"all feature store objects under {offline_store_s3_uri} will be deleted!\")\n",
    "    print(\"Are you sure you want to these objects ? (y/n)\")\n",
    "    \n",
    "    choice = input()\n",
    "    if choice == 'y':\n",
    "        !aws s3 rm {offline_store_s3_uri} --recursive"
   ]
  },
  {
   "cell_type": "markdown",
   "metadata": {},
   "source": [
    "<div class=\"alert alert-info\"> 💡 <strong> 다음 코드 셀은 선택한 기능 그룹을 삭제합니다!</strong>\n",
    "</div>"
   ]
  },
  {
   "cell_type": "code",
   "execution_count": 37,
   "metadata": {},
   "outputs": [
    {
     "name": "stdout",
     "output_type": "stream",
     "text": [
      "Deleting the feature group: FG-abalone-07-11-03-08-2b69cb40\n",
      "Feature group: FG-abalone-07-11-03-08-2b69cb40 does NOT have an offline store!\n"
     ]
    },
    {
     "ename": "ResourceNotFound",
     "evalue": "An error occurred (ResourceNotFound) when calling the DeleteFeatureGroup operation: Resource Not Found: Amazon SageMaker can't find a FeatureGroup with name fg-abalone-07-11-03-08-2b69cb40",
     "output_type": "error",
     "traceback": [
      "\u001b[0;31m---------------------------------------------------------------------------\u001b[0m",
      "\u001b[0;31mResourceNotFound\u001b[0m                          Traceback (most recent call last)",
      "\u001b[0;32m<ipython-input-37-2ca2d8f8f538>\u001b[0m in \u001b[0;36m<module>\u001b[0;34m\u001b[0m\n\u001b[1;32m      2\u001b[0m     \u001b[0mprint\u001b[0m\u001b[0;34m(\u001b[0m\u001b[0;34mf\"Deleting the feature group: {fg}\"\u001b[0m\u001b[0;34m)\u001b[0m\u001b[0;34m\u001b[0m\u001b[0;34m\u001b[0m\u001b[0m\n\u001b[1;32m      3\u001b[0m     \u001b[0mdelete_offline_store\u001b[0m\u001b[0;34m(\u001b[0m\u001b[0mfg\u001b[0m\u001b[0;34m)\u001b[0m\u001b[0;34m\u001b[0m\u001b[0;34m\u001b[0m\u001b[0m\n\u001b[0;32m----> 4\u001b[0;31m     \u001b[0msm\u001b[0m\u001b[0;34m.\u001b[0m\u001b[0mdelete_feature_group\u001b[0m\u001b[0;34m(\u001b[0m\u001b[0mFeatureGroupName\u001b[0m\u001b[0;34m=\u001b[0m\u001b[0mfg\u001b[0m\u001b[0;34m)\u001b[0m\u001b[0;34m\u001b[0m\u001b[0;34m\u001b[0m\u001b[0m\n\u001b[0m",
      "\u001b[0;32m/opt/conda/lib/python3.7/site-packages/botocore/client.py\u001b[0m in \u001b[0;36m_api_call\u001b[0;34m(self, *args, **kwargs)\u001b[0m\n\u001b[1;32m    389\u001b[0m                     \"%s() only accepts keyword arguments.\" % py_operation_name)\n\u001b[1;32m    390\u001b[0m             \u001b[0;31m# The \"self\" in this scope is referring to the BaseClient.\u001b[0m\u001b[0;34m\u001b[0m\u001b[0;34m\u001b[0m\u001b[0;34m\u001b[0m\u001b[0m\n\u001b[0;32m--> 391\u001b[0;31m             \u001b[0;32mreturn\u001b[0m \u001b[0mself\u001b[0m\u001b[0;34m.\u001b[0m\u001b[0m_make_api_call\u001b[0m\u001b[0;34m(\u001b[0m\u001b[0moperation_name\u001b[0m\u001b[0;34m,\u001b[0m \u001b[0mkwargs\u001b[0m\u001b[0;34m)\u001b[0m\u001b[0;34m\u001b[0m\u001b[0;34m\u001b[0m\u001b[0m\n\u001b[0m\u001b[1;32m    392\u001b[0m \u001b[0;34m\u001b[0m\u001b[0m\n\u001b[1;32m    393\u001b[0m         \u001b[0m_api_call\u001b[0m\u001b[0;34m.\u001b[0m\u001b[0m__name__\u001b[0m \u001b[0;34m=\u001b[0m \u001b[0mstr\u001b[0m\u001b[0;34m(\u001b[0m\u001b[0mpy_operation_name\u001b[0m\u001b[0;34m)\u001b[0m\u001b[0;34m\u001b[0m\u001b[0;34m\u001b[0m\u001b[0m\n",
      "\u001b[0;32m/opt/conda/lib/python3.7/site-packages/botocore/client.py\u001b[0m in \u001b[0;36m_make_api_call\u001b[0;34m(self, operation_name, api_params)\u001b[0m\n\u001b[1;32m    717\u001b[0m             \u001b[0merror_code\u001b[0m \u001b[0;34m=\u001b[0m \u001b[0mparsed_response\u001b[0m\u001b[0;34m.\u001b[0m\u001b[0mget\u001b[0m\u001b[0;34m(\u001b[0m\u001b[0;34m\"Error\"\u001b[0m\u001b[0;34m,\u001b[0m \u001b[0;34m{\u001b[0m\u001b[0;34m}\u001b[0m\u001b[0;34m)\u001b[0m\u001b[0;34m.\u001b[0m\u001b[0mget\u001b[0m\u001b[0;34m(\u001b[0m\u001b[0;34m\"Code\"\u001b[0m\u001b[0;34m)\u001b[0m\u001b[0;34m\u001b[0m\u001b[0;34m\u001b[0m\u001b[0m\n\u001b[1;32m    718\u001b[0m             \u001b[0merror_class\u001b[0m \u001b[0;34m=\u001b[0m \u001b[0mself\u001b[0m\u001b[0;34m.\u001b[0m\u001b[0mexceptions\u001b[0m\u001b[0;34m.\u001b[0m\u001b[0mfrom_code\u001b[0m\u001b[0;34m(\u001b[0m\u001b[0merror_code\u001b[0m\u001b[0;34m)\u001b[0m\u001b[0;34m\u001b[0m\u001b[0;34m\u001b[0m\u001b[0m\n\u001b[0;32m--> 719\u001b[0;31m             \u001b[0;32mraise\u001b[0m \u001b[0merror_class\u001b[0m\u001b[0;34m(\u001b[0m\u001b[0mparsed_response\u001b[0m\u001b[0;34m,\u001b[0m \u001b[0moperation_name\u001b[0m\u001b[0;34m)\u001b[0m\u001b[0;34m\u001b[0m\u001b[0;34m\u001b[0m\u001b[0m\n\u001b[0m\u001b[1;32m    720\u001b[0m         \u001b[0;32melse\u001b[0m\u001b[0;34m:\u001b[0m\u001b[0;34m\u001b[0m\u001b[0;34m\u001b[0m\u001b[0m\n\u001b[1;32m    721\u001b[0m             \u001b[0;32mreturn\u001b[0m \u001b[0mparsed_response\u001b[0m\u001b[0;34m\u001b[0m\u001b[0;34m\u001b[0m\u001b[0m\n",
      "\u001b[0;31mResourceNotFound\u001b[0m: An error occurred (ResourceNotFound) when calling the DeleteFeatureGroup operation: Resource Not Found: Amazon SageMaker can't find a FeatureGroup with name fg-abalone-07-11-03-08-2b69cb40"
     ]
    }
   ],
   "source": [
    "for fg in feature_groups_to_delete:\n",
    "    print(f\"Deleting the feature group: {fg}\")\n",
    "    delete_offline_store(fg)\n",
    "    sm.delete_feature_group(FeatureGroupName=fg)"
   ]
  },
  {
   "cell_type": "markdown",
   "metadata": {},
   "source": [
    "# 3. 프로젝트 프로비저닝된 S3 버킷 삭제"
   ]
  },
  {
   "cell_type": "markdown",
   "metadata": {},
   "source": [
    "<div class=\"alert alert-info\"> 💡 <strong> \n",
    "다음 코드 셀은 프로젝트에서 생성된 모든 S3 버킷을 삭제합니다!</strong>\n",
    "</div>"
   ]
  },
  {
   "cell_type": "code",
   "execution_count": 38,
   "metadata": {},
   "outputs": [
    {
     "name": "stdout",
     "output_type": "stream",
     "text": [
      "*****************************************************\n",
      "The following S3 buckets will be removed permanently!\n",
      "*****************************************************\n"
     ]
    }
   ],
   "source": [
    "print(f\"*****************************************************\")\n",
    "print(f\"The following S3 buckets will be removed permanently!\")\n",
    "print(f\"*****************************************************\")\n",
    "for p in projects_to_delete:\n",
    "    print(f\"sagemaker-cp-{p['ProjectName']}-{p['ProjectId']}\")\n",
    "    print(f\"sagemaker-ct-{p['ProjectName']}-{p['ProjectId']}\")"
   ]
  },
  {
   "cell_type": "code",
   "execution_count": 39,
   "metadata": {},
   "outputs": [],
   "source": [
    "for p in projects_to_delete:\n",
    "    !aws s3 rb s3://sagemaker-cp-{p['ProjectName']}-{p['ProjectId']} --force    \n",
    "    !aws s3 rb s3://sagemaker-ct-{p['ProjectName']}-{p['ProjectId']} --force"
   ]
  },
  {
   "cell_type": "markdown",
   "metadata": {},
   "source": [
    "# 4. S3 데이터 버킷에서 프로젝트 관련 객체 제거"
   ]
  },
  {
   "cell_type": "markdown",
   "metadata": {},
   "source": [
    "<div class=\"alert alert-info\"> 💡 <strong> \n",
    "다음 코드 셀은 지정된 S3 접두사 아래의 모든 객체를 삭제합니다.!</strong>\n",
    "</div>"
   ]
  },
  {
   "cell_type": "code",
   "execution_count": 40,
   "metadata": {},
   "outputs": [],
   "source": [
    "prefixes_to_delete = [\n",
    "    s3_data_prefix,\n",
    "    s3_flow_prefix,\n",
    "    s3_input_data_prefix,\n",
    "    s3_fs_query_output_prefix\n",
    "]"
   ]
  },
  {
   "cell_type": "code",
   "execution_count": 41,
   "metadata": {},
   "outputs": [
    {
     "name": "stdout",
     "output_type": "stream",
     "text": [
      "************************************************************************\n",
      "All objects under the following S3 prefixes will be removed permanently!\n",
      "************************************************************************\n",
      "sagemaker-ap-northeast-2-018763497627/feature-store-ingestion-pipeline/dataset/\n",
      "sagemaker-ap-northeast-2-018763497627/feature-store-ingestion-pipeline/dw-flow/\n",
      "sagemaker-ap-northeast-2-018763497627/feature-store-ingestion-pipeline/landing-zone/\n",
      "sagemaker-ap-northeast-2-018763497627/feature-store-ingestion-pipeline/fs_query_results/\n"
     ]
    }
   ],
   "source": [
    "print(f\"************************************************************************\")\n",
    "print(f\"All objects under the following S3 prefixes will be removed permanently!\")\n",
    "print(f\"************************************************************************\")\n",
    "for p in prefixes_to_delete:\n",
    "    print(p)"
   ]
  },
  {
   "cell_type": "code",
   "execution_count": 42,
   "metadata": {},
   "outputs": [
    {
     "name": "stdout",
     "output_type": "stream",
     "text": [
      "delete: s3://sagemaker-ap-northeast-2-018763497627/feature-store-ingestion-pipeline/dataset/abalone.csv\n",
      "delete: s3://sagemaker-ap-northeast-2-018763497627/feature-store-ingestion-pipeline/dataset/abalone.names\n",
      "delete: s3://sagemaker-ap-northeast-2-018763497627/feature-store-ingestion-pipeline/dataset/abalone.data\n",
      "delete: s3://sagemaker-ap-northeast-2-018763497627/feature-store-ingestion-pipeline/dw-flow/dw2-flow-07-11-03-08-2b69cb40.flow\n",
      "delete: s3://sagemaker-ap-northeast-2-018763497627/feature-store-ingestion-pipeline/fs_query_results/57a30450-0924-4cdb-b791-70529c2c058e.csv\n",
      "delete: s3://sagemaker-ap-northeast-2-018763497627/feature-store-ingestion-pipeline/fs_query_results/57a30450-0924-4cdb-b791-70529c2c058e.csv.metadata\n"
     ]
    }
   ],
   "source": [
    "for p in prefixes_to_delete:\n",
    "    !aws s3 rm s3://{p} --recursive"
   ]
  },
  {
   "cell_type": "markdown",
   "metadata": {},
   "source": [
    "## sm-project-sc-portfolio 스택 제거"
   ]
  },
  {
   "cell_type": "code",
   "execution_count": 20,
   "metadata": {},
   "outputs": [],
   "source": [
    "SC_PORTFOLIO_STACK_NAME='sm-project-sc-portfolio'"
   ]
  },
  {
   "cell_type": "code",
   "execution_count": 22,
   "metadata": {},
   "outputs": [
    {
     "name": "stdout",
     "output_type": "stream",
     "text": [
      "SM_SC_FS_INGESTION_POLICY_ARN :\n",
      "\n",
      "SM_EXECUTION_ROLE_POLICY_ARN :\n",
      "\n",
      "SM_EXECUTION_ROLE_NAME :\n",
      "Policies are detached\n",
      "Portfolio stack is deleted\n"
     ]
    },
    {
     "name": "stderr",
     "output_type": "stream",
     "text": [
      "\n",
      "An error occurred (ValidationError) when calling the DescribeStacks operation: Stack with id sm-project-sc-portfolio does not exist\n",
      "\n",
      "An error occurred (ValidationError) when calling the DescribeStacks operation: Stack with id sm-project-sc-portfolio does not exist\n",
      "\n",
      "An error occurred (ValidationError) when calling the DescribeStacks operation: Stack with id sm-project-sc-portfolio does not exist\n",
      "Note: AWS CLI version 2, the latest major version of the AWS CLI, is now stable and recommended for general use. For more information, see the AWS CLI version 2 installation instructions at: https://docs.aws.amazon.com/cli/latest/userguide/install-cliv2.html\n",
      "\n",
      "usage: aws [options] <command> <subcommand> [<subcommand> ...] [parameters]\n",
      "To see help text, you can run:\n",
      "\n",
      "  aws help\n",
      "  aws <command> help\n",
      "  aws <command> <subcommand> help\n",
      "aws: error: argument --policy-arn: expected one argument\n",
      "Note: AWS CLI version 2, the latest major version of the AWS CLI, is now stable and recommended for general use. For more information, see the AWS CLI version 2 installation instructions at: https://docs.aws.amazon.com/cli/latest/userguide/install-cliv2.html\n",
      "\n",
      "usage: aws [options] <command> <subcommand> [<subcommand> ...] [parameters]\n",
      "To see help text, you can run:\n",
      "\n",
      "  aws help\n",
      "  aws <command> help\n",
      "  aws <command> <subcommand> help\n",
      "aws: error: argument --role-name: expected one argument\n"
     ]
    }
   ],
   "source": [
    "%%sh -s \"{SC_PORTFOLIO_STACK_NAME}\" \n",
    "\n",
    "sc_portfolio_stack_name=$1\n",
    "export SM_SC_FS_INGESTION_POLICY_ARN=$(aws cloudformation describe-stacks \\\n",
    "    --stack-name $sc_portfolio_stack_name \\\n",
    "    --output text \\\n",
    "    --query 'Stacks[0].Outputs[?OutputKey==`FSIngestionProductPolicyArn`].OutputValue')\n",
    "\n",
    "echo 'SM_SC_FS_INGESTION_POLICY_ARN' : $SM_SC_FS_INGESTION_POLICY_ARN\n",
    "    \n",
    "export SM_EXECUTION_ROLE_POLICY_ARN=$(aws cloudformation describe-stacks \\\n",
    "    --stack-name $sc_portfolio_stack_name \\\n",
    "    --output text \\\n",
    "    --query 'Stacks[0].Outputs[?OutputKey==`AmazonSageMakerExecutionRolePolicyArn`].OutputValue')\n",
    "\n",
    "echo ''\n",
    "echo 'SM_EXECUTION_ROLE_POLICY_ARN' : $SM_EXECUTION_ROLE_POLICY_ARN    \n",
    "    \n",
    "export SM_EXECUTION_ROLE_NAME=$(aws cloudformation describe-stacks \\\n",
    "    --stack-name $sc_portfolio_stack_name \\\n",
    "    --output text \\\n",
    "    --query 'Stacks[0].Outputs[?OutputKey==`AmazonSageMakerExecutionRoleName`].OutputValue')\n",
    "\n",
    "echo ''\n",
    "echo 'SM_EXECUTION_ROLE_NAME' : $SM_EXECUTION_ROLE_NAME    \n",
    "\n",
    "echo \"Policies are detached\"    \n",
    "aws iam detach-role-policy \\\n",
    "    --role-name AmazonSageMakerServiceCatalogProductsLaunchRole \\\n",
    "    --policy-arn $SM_SC_FS_INGESTION_POLICY_ARN\n",
    "\n",
    "aws iam detach-role-policy \\\n",
    "    --role-name  $SM_EXECUTION_ROLE_NAME \\\n",
    "    --policy-arn $SM_EXECUTION_ROLE_POLICY_ARN\n",
    "\n",
    "echo \"Portfolio stack is deleted\"    \n",
    "aws cloudformation delete-stack --stack-name $sc_portfolio_stack_name\n",
    "\n"
   ]
  },
  {
   "cell_type": "markdown",
   "metadata": {},
   "source": [
    "# 5. 제공된 amazon-sagemaker-reusable-components-package-cfn 스택 제거\n"
   ]
  },
  {
   "cell_type": "code",
   "execution_count": 2,
   "metadata": {},
   "outputs": [],
   "source": [
    "%%sh\n",
    "\n",
    "aws iam attach-role-policy \\\n",
    "    --role-name  AmazonSageMakerServiceCatalogProductsLaunchRole \\\n",
    "    --policy-arn arn:aws:iam::aws:policy/IAMFullAccess\n",
    "\n",
    "\n"
   ]
  },
  {
   "cell_type": "code",
   "execution_count": 3,
   "metadata": {},
   "outputs": [],
   "source": [
    "%%sh\n",
    "aws cloudformation delete-stack --stack-name amazon-sagemaker-reusable-components-package-cfn"
   ]
  },
  {
   "cell_type": "markdown",
   "metadata": {},
   "source": [
    "클라우드 포메이션 콘솔로 이동해서 확인 합니다.\n",
    "\n",
    "![cfn-template-rm.png](img/cfn-template-rm.png)"
   ]
  },
  {
   "cell_type": "markdown",
   "metadata": {},
   "source": [
    "# 6. 노트북 리소스 제거"
   ]
  },
  {
   "cell_type": "code",
   "execution_count": 30,
   "metadata": {},
   "outputs": [
    {
     "data": {
      "text/html": [
       "\n",
       "<p><b>Shutting down your kernel for this notebook to release resources.</b></p>\n",
       "<button class=\"sm-command-button\" data-commandlinker-command=\"kernelmenu:shutdown\" style=\"display:none;\">Shutdown Kernel</button>\n",
       "        \n",
       "<script>\n",
       "try {\n",
       "    els = document.getElementsByClassName(\"sm-command-button\");\n",
       "    els[0].click();\n",
       "}\n",
       "catch(err) {\n",
       "    // NoOp\n",
       "}    \n",
       "</script>\n"
      ],
      "text/plain": [
       "<IPython.core.display.HTML object>"
      ]
     },
     "metadata": {},
     "output_type": "display_data"
    }
   ],
   "source": [
    "%%html\n",
    "\n",
    "<p><b>Shutting down your kernel for this notebook to release resources.</b></p>\n",
    "<button class=\"sm-command-button\" data-commandlinker-command=\"kernelmenu:shutdown\" style=\"display:none;\">Shutdown Kernel</button>\n",
    "        \n",
    "<script>\n",
    "try {\n",
    "    els = document.getElementsByClassName(\"sm-command-button\");\n",
    "    els[0].click();\n",
    "}\n",
    "catch(err) {\n",
    "    // NoOp\n",
    "}    \n",
    "</script>"
   ]
  },
  {
   "cell_type": "markdown",
   "metadata": {},
   "source": [
    "# 7. 노트북 및 실행 중인 노트북 인스턴스를 종료"
   ]
  },
  {
   "cell_type": "markdown",
   "metadata": {},
   "source": [
    "<div class=\"alert alert-info\"> 💡 <strong>아래에서 노트북을 셧다운 해주세요. \n",
    "그리고 RUNNING INSTANCE 가 필요 없으면 역시 꺼주세요. \n",
    "\n",
    "</strong>\n",
    "</div>\n",
    "\n",
    "\n",
    "<img src=\"img/delete-resource.png\" width=400>"
   ]
  },
  {
   "cell_type": "markdown",
   "metadata": {},
   "source": [
    "# 8. Next\n",
    "계속 리소스 제거를 위해서 여기로 이동해주세요. [README-Action](../README-Action.md)"
   ]
  },
  {
   "cell_type": "code",
   "execution_count": null,
   "metadata": {},
   "outputs": [],
   "source": []
  }
 ],
 "metadata": {
  "instance_type": "ml.t3.medium",
  "kernelspec": {
   "display_name": "Python 3 (Data Science)",
   "language": "python",
   "name": "python3__SAGEMAKER_INTERNAL__arn:aws:sagemaker:ap-northeast-2:806072073708:image/datascience-1.0"
  },
  "language_info": {
   "codemirror_mode": {
    "name": "ipython",
    "version": 3
   },
   "file_extension": ".py",
   "mimetype": "text/x-python",
   "name": "python",
   "nbconvert_exporter": "python",
   "pygments_lexer": "ipython3",
   "version": "3.7.10"
  }
 },
 "nbformat": 4,
 "nbformat_minor": 4
}
